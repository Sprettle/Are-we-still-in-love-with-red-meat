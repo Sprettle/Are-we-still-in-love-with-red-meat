{
 "cells": [
  {
   "cell_type": "markdown",
   "metadata": {},
   "source": [
    "# Extract Data"
   ]
  },
  {
   "cell_type": "code",
   "execution_count": 1,
   "metadata": {},
   "outputs": [],
   "source": [
    "# Dependencies\n",
    "import pandas as pd"
   ]
  },
  {
   "cell_type": "code",
   "execution_count": 2,
   "metadata": {},
   "outputs": [],
   "source": [
    "# Store filepath in a variable\n",
    "file = \"Summary of Australian statistics for meat.csv\"\n"
   ]
  },
  {
   "cell_type": "code",
   "execution_count": 3,
   "metadata": {},
   "outputs": [],
   "source": [
    "# Read our Data file with the pandas library\n",
    "meat_stats_df = pd.read_csv(file, encoding=\"ISO-8859-1\")"
   ]
  },
  {
   "cell_type": "code",
   "execution_count": 4,
   "metadata": {},
   "outputs": [
    {
     "output_type": "execute_result",
     "data": {
      "text/plain": [
       "     ï»¿Year Cattle numbers a Sheep numbers a  Unnamed: 3 Total red meat  \\\n",
       "0        NaN              NaN             NaN         NaN     Production   \n",
       "1        NaN          million         million         NaN        kt (cw)   \n",
       "2  1974â75               32             152         NaN          2,250   \n",
       "3  1975â76               33             148         NaN          2,602   \n",
       "4  1976â77               32             135         NaN          2,722   \n",
       "5  1977â78               29             131         NaN          2,897   \n",
       "6  1978â79               27             134         NaN          2,708   \n",
       "7  1979â80               26             136         NaN          2,330   \n",
       "8  1980â81               25             134         NaN          2,278   \n",
       "9  1981â82               24             138         NaN          2,315   \n",
       "\n",
       "  Unnamed: 5            Unnamed: 6  Unnamed: 7     Unnamed: 8  \\\n",
       "0    Exports  Domestic consumption         NaN  Beef and Veal   \n",
       "1    kt (cw)               kt (cw)         NaN        kg (cw)   \n",
       "2        784                 1,370         NaN             63   \n",
       "3      1,066                 1,379         NaN             67   \n",
       "4      1,254                 1,375         NaN             69   \n",
       "5      1,378                 1,362         NaN             67   \n",
       "6      1,446                 1,249         NaN             57   \n",
       "7      1,113                 1,241         NaN             50   \n",
       "8      1,049                 1,267         NaN             49   \n",
       "9      1,001                 1,273         NaN             49   \n",
       "\n",
       "        Unnamed: 9 Unnamed: 10   Unnamed: 11  \n",
       "0  Lamb and mutton    Pig meat  Chicken Meat  \n",
       "1          kg (cw)     kg (cw)       kg (cw)  \n",
       "2               25          10            12  \n",
       "3               22          10            13  \n",
       "4               18          10            14  \n",
       "5               18          11            15  \n",
       "6               18          10            17  \n",
       "7               20          15            19  \n",
       "8               20          16            18  \n",
       "9               19          15            17  "
      ],
      "text/html": "<div>\n<style scoped>\n    .dataframe tbody tr th:only-of-type {\n        vertical-align: middle;\n    }\n\n    .dataframe tbody tr th {\n        vertical-align: top;\n    }\n\n    .dataframe thead th {\n        text-align: right;\n    }\n</style>\n<table border=\"1\" class=\"dataframe\">\n  <thead>\n    <tr style=\"text-align: right;\">\n      <th></th>\n      <th>ï»¿Year</th>\n      <th>Cattle numbers a</th>\n      <th>Sheep numbers a</th>\n      <th>Unnamed: 3</th>\n      <th>Total red meat</th>\n      <th>Unnamed: 5</th>\n      <th>Unnamed: 6</th>\n      <th>Unnamed: 7</th>\n      <th>Unnamed: 8</th>\n      <th>Unnamed: 9</th>\n      <th>Unnamed: 10</th>\n      <th>Unnamed: 11</th>\n    </tr>\n  </thead>\n  <tbody>\n    <tr>\n      <th>0</th>\n      <td>NaN</td>\n      <td>NaN</td>\n      <td>NaN</td>\n      <td>NaN</td>\n      <td>Production</td>\n      <td>Exports</td>\n      <td>Domestic consumption</td>\n      <td>NaN</td>\n      <td>Beef and Veal</td>\n      <td>Lamb and mutton</td>\n      <td>Pig meat</td>\n      <td>Chicken Meat</td>\n    </tr>\n    <tr>\n      <th>1</th>\n      <td>NaN</td>\n      <td>million</td>\n      <td>million</td>\n      <td>NaN</td>\n      <td>kt (cw)</td>\n      <td>kt (cw)</td>\n      <td>kt (cw)</td>\n      <td>NaN</td>\n      <td>kg (cw)</td>\n      <td>kg (cw)</td>\n      <td>kg (cw)</td>\n      <td>kg (cw)</td>\n    </tr>\n    <tr>\n      <th>2</th>\n      <td>1974â75</td>\n      <td>32</td>\n      <td>152</td>\n      <td>NaN</td>\n      <td>2,250</td>\n      <td>784</td>\n      <td>1,370</td>\n      <td>NaN</td>\n      <td>63</td>\n      <td>25</td>\n      <td>10</td>\n      <td>12</td>\n    </tr>\n    <tr>\n      <th>3</th>\n      <td>1975â76</td>\n      <td>33</td>\n      <td>148</td>\n      <td>NaN</td>\n      <td>2,602</td>\n      <td>1,066</td>\n      <td>1,379</td>\n      <td>NaN</td>\n      <td>67</td>\n      <td>22</td>\n      <td>10</td>\n      <td>13</td>\n    </tr>\n    <tr>\n      <th>4</th>\n      <td>1976â77</td>\n      <td>32</td>\n      <td>135</td>\n      <td>NaN</td>\n      <td>2,722</td>\n      <td>1,254</td>\n      <td>1,375</td>\n      <td>NaN</td>\n      <td>69</td>\n      <td>18</td>\n      <td>10</td>\n      <td>14</td>\n    </tr>\n    <tr>\n      <th>5</th>\n      <td>1977â78</td>\n      <td>29</td>\n      <td>131</td>\n      <td>NaN</td>\n      <td>2,897</td>\n      <td>1,378</td>\n      <td>1,362</td>\n      <td>NaN</td>\n      <td>67</td>\n      <td>18</td>\n      <td>11</td>\n      <td>15</td>\n    </tr>\n    <tr>\n      <th>6</th>\n      <td>1978â79</td>\n      <td>27</td>\n      <td>134</td>\n      <td>NaN</td>\n      <td>2,708</td>\n      <td>1,446</td>\n      <td>1,249</td>\n      <td>NaN</td>\n      <td>57</td>\n      <td>18</td>\n      <td>10</td>\n      <td>17</td>\n    </tr>\n    <tr>\n      <th>7</th>\n      <td>1979â80</td>\n      <td>26</td>\n      <td>136</td>\n      <td>NaN</td>\n      <td>2,330</td>\n      <td>1,113</td>\n      <td>1,241</td>\n      <td>NaN</td>\n      <td>50</td>\n      <td>20</td>\n      <td>15</td>\n      <td>19</td>\n    </tr>\n    <tr>\n      <th>8</th>\n      <td>1980â81</td>\n      <td>25</td>\n      <td>134</td>\n      <td>NaN</td>\n      <td>2,278</td>\n      <td>1,049</td>\n      <td>1,267</td>\n      <td>NaN</td>\n      <td>49</td>\n      <td>20</td>\n      <td>16</td>\n      <td>18</td>\n    </tr>\n    <tr>\n      <th>9</th>\n      <td>1981â82</td>\n      <td>24</td>\n      <td>138</td>\n      <td>NaN</td>\n      <td>2,315</td>\n      <td>1,001</td>\n      <td>1,273</td>\n      <td>NaN</td>\n      <td>49</td>\n      <td>19</td>\n      <td>15</td>\n      <td>17</td>\n    </tr>\n  </tbody>\n</table>\n</div>"
     },
     "metadata": {},
     "execution_count": 4
    }
   ],
   "source": [
    "# Display Dataframe\n",
    "meat_stats_df.head(10)"
   ]
  },
  {
   "cell_type": "markdown",
   "metadata": {},
   "source": [
    "# Transform Data"
   ]
  },
  {
   "cell_type": "code",
   "execution_count": 5,
   "metadata": {},
   "outputs": [
    {
     "output_type": "execute_result",
     "data": {
      "text/plain": [
       "     ï»¿Year     Unnamed: 8       Unnamed: 9 Unnamed: 10   Unnamed: 11\n",
       "0        NaN  Beef and Veal  Lamb and mutton    Pig meat  Chicken Meat\n",
       "1        NaN        kg (cw)          kg (cw)     kg (cw)       kg (cw)\n",
       "2  1974â75             63               25          10            12\n",
       "3  1975â76             67               22          10            13\n",
       "4  1976â77             69               18          10            14"
      ],
      "text/html": "<div>\n<style scoped>\n    .dataframe tbody tr th:only-of-type {\n        vertical-align: middle;\n    }\n\n    .dataframe tbody tr th {\n        vertical-align: top;\n    }\n\n    .dataframe thead th {\n        text-align: right;\n    }\n</style>\n<table border=\"1\" class=\"dataframe\">\n  <thead>\n    <tr style=\"text-align: right;\">\n      <th></th>\n      <th>ï»¿Year</th>\n      <th>Unnamed: 8</th>\n      <th>Unnamed: 9</th>\n      <th>Unnamed: 10</th>\n      <th>Unnamed: 11</th>\n    </tr>\n  </thead>\n  <tbody>\n    <tr>\n      <th>0</th>\n      <td>NaN</td>\n      <td>Beef and Veal</td>\n      <td>Lamb and mutton</td>\n      <td>Pig meat</td>\n      <td>Chicken Meat</td>\n    </tr>\n    <tr>\n      <th>1</th>\n      <td>NaN</td>\n      <td>kg (cw)</td>\n      <td>kg (cw)</td>\n      <td>kg (cw)</td>\n      <td>kg (cw)</td>\n    </tr>\n    <tr>\n      <th>2</th>\n      <td>1974â75</td>\n      <td>63</td>\n      <td>25</td>\n      <td>10</td>\n      <td>12</td>\n    </tr>\n    <tr>\n      <th>3</th>\n      <td>1975â76</td>\n      <td>67</td>\n      <td>22</td>\n      <td>10</td>\n      <td>13</td>\n    </tr>\n    <tr>\n      <th>4</th>\n      <td>1976â77</td>\n      <td>69</td>\n      <td>18</td>\n      <td>10</td>\n      <td>14</td>\n    </tr>\n  </tbody>\n</table>\n</div>"
     },
     "metadata": {},
     "execution_count": 5
    }
   ],
   "source": [
    "# filter dataframe to specific columns\n",
    "meat_consumption = meat_stats_df[['ï»¿Year', 'Unnamed: 8', 'Unnamed: 9', 'Unnamed: 10','Unnamed: 11']].copy()\n",
    "meat_consumption.head()"
   ]
  },
  {
   "cell_type": "code",
   "execution_count": 6,
   "metadata": {},
   "outputs": [
    {
     "output_type": "execute_result",
     "data": {
      "text/plain": [
       "        Year Beef and Veal kg(cw) Lamb and Mutton kg(cw) Pig Meat kg(cw)  \\\n",
       "0        NaN        Beef and Veal        Lamb and mutton        Pig meat   \n",
       "1        NaN              kg (cw)                kg (cw)         kg (cw)   \n",
       "2  1974â75                   63                     25              10   \n",
       "3  1975â76                   67                     22              10   \n",
       "4  1976â77                   69                     18              10   \n",
       "\n",
       "  Chicken Meat kg(cw)  \n",
       "0        Chicken Meat  \n",
       "1             kg (cw)  \n",
       "2                  12  \n",
       "3                  13  \n",
       "4                  14  "
      ],
      "text/html": "<div>\n<style scoped>\n    .dataframe tbody tr th:only-of-type {\n        vertical-align: middle;\n    }\n\n    .dataframe tbody tr th {\n        vertical-align: top;\n    }\n\n    .dataframe thead th {\n        text-align: right;\n    }\n</style>\n<table border=\"1\" class=\"dataframe\">\n  <thead>\n    <tr style=\"text-align: right;\">\n      <th></th>\n      <th>Year</th>\n      <th>Beef and Veal kg(cw)</th>\n      <th>Lamb and Mutton kg(cw)</th>\n      <th>Pig Meat kg(cw)</th>\n      <th>Chicken Meat kg(cw)</th>\n    </tr>\n  </thead>\n  <tbody>\n    <tr>\n      <th>0</th>\n      <td>NaN</td>\n      <td>Beef and Veal</td>\n      <td>Lamb and mutton</td>\n      <td>Pig meat</td>\n      <td>Chicken Meat</td>\n    </tr>\n    <tr>\n      <th>1</th>\n      <td>NaN</td>\n      <td>kg (cw)</td>\n      <td>kg (cw)</td>\n      <td>kg (cw)</td>\n      <td>kg (cw)</td>\n    </tr>\n    <tr>\n      <th>2</th>\n      <td>1974â75</td>\n      <td>63</td>\n      <td>25</td>\n      <td>10</td>\n      <td>12</td>\n    </tr>\n    <tr>\n      <th>3</th>\n      <td>1975â76</td>\n      <td>67</td>\n      <td>22</td>\n      <td>10</td>\n      <td>13</td>\n    </tr>\n    <tr>\n      <th>4</th>\n      <td>1976â77</td>\n      <td>69</td>\n      <td>18</td>\n      <td>10</td>\n      <td>14</td>\n    </tr>\n  </tbody>\n</table>\n</div>"
     },
     "metadata": {},
     "execution_count": 6
    }
   ],
   "source": [
    "# Rename the column headers\n",
    "meat_consumption = meat_consumption.rename(columns={\"ï»¿Year\": \"Year\",\n",
    "                                                          \"Unnamed: 8\": \"Beef and Veal kg(cw)\",\n",
    "                                                          \"Unnamed: 9\": \"Lamb and Mutton kg(cw)\",\n",
    "                                                          \"Unnamed: 10\":\"Pig Meat kg(cw)\",\n",
    "                                                          \"Unnamed: 11\": \"Chicken Meat kg(cw)\"})\n",
    "meat_consumption.head()"
   ]
  },
  {
   "cell_type": "code",
   "execution_count": 7,
   "metadata": {},
   "outputs": [
    {
     "output_type": "execute_result",
     "data": {
      "text/plain": [
       "        Year Beef and Veal kg(cw) Lamb and Mutton kg(cw) Pig Meat kg(cw)  \\\n",
       "2  1974â75                   63                     25              10   \n",
       "3  1975â76                   67                     22              10   \n",
       "4  1976â77                   69                     18              10   \n",
       "5  1977â78                   67                     18              11   \n",
       "6  1978â79                   57                     18              10   \n",
       "\n",
       "  Chicken Meat kg(cw)  \n",
       "2                  12  \n",
       "3                  13  \n",
       "4                  14  \n",
       "5                  15  \n",
       "6                  17  "
      ],
      "text/html": "<div>\n<style scoped>\n    .dataframe tbody tr th:only-of-type {\n        vertical-align: middle;\n    }\n\n    .dataframe tbody tr th {\n        vertical-align: top;\n    }\n\n    .dataframe thead th {\n        text-align: right;\n    }\n</style>\n<table border=\"1\" class=\"dataframe\">\n  <thead>\n    <tr style=\"text-align: right;\">\n      <th></th>\n      <th>Year</th>\n      <th>Beef and Veal kg(cw)</th>\n      <th>Lamb and Mutton kg(cw)</th>\n      <th>Pig Meat kg(cw)</th>\n      <th>Chicken Meat kg(cw)</th>\n    </tr>\n  </thead>\n  <tbody>\n    <tr>\n      <th>2</th>\n      <td>1974â75</td>\n      <td>63</td>\n      <td>25</td>\n      <td>10</td>\n      <td>12</td>\n    </tr>\n    <tr>\n      <th>3</th>\n      <td>1975â76</td>\n      <td>67</td>\n      <td>22</td>\n      <td>10</td>\n      <td>13</td>\n    </tr>\n    <tr>\n      <th>4</th>\n      <td>1976â77</td>\n      <td>69</td>\n      <td>18</td>\n      <td>10</td>\n      <td>14</td>\n    </tr>\n    <tr>\n      <th>5</th>\n      <td>1977â78</td>\n      <td>67</td>\n      <td>18</td>\n      <td>11</td>\n      <td>15</td>\n    </tr>\n    <tr>\n      <th>6</th>\n      <td>1978â79</td>\n      <td>57</td>\n      <td>18</td>\n      <td>10</td>\n      <td>17</td>\n    </tr>\n  </tbody>\n</table>\n</div>"
     },
     "metadata": {},
     "execution_count": 7
    }
   ],
   "source": [
    "# Remove the top 2 rows, that are now column headers\n",
    "meat_consumption = meat_consumption.drop([0,1])\n",
    "meat_consumption.head()"
   ]
  },
  {
   "cell_type": "code",
   "execution_count": 9,
   "metadata": {},
   "outputs": [
    {
     "output_type": "execute_result",
     "data": {
      "text/plain": [
       "   Year Beef and Veal kg(cw) Lamb and Mutton kg(cw) Pig Meat kg(cw)  \\\n",
       "2  1974                   63                     25              10   \n",
       "3  1975                   67                     22              10   \n",
       "4  1976                   69                     18              10   \n",
       "5  1977                   67                     18              11   \n",
       "6  1978                   57                     18              10   \n",
       "\n",
       "  Chicken Meat kg(cw)   End  \n",
       "2                  12  75  \n",
       "3                  13  76  \n",
       "4                  14  77  \n",
       "5                  15  78  \n",
       "6                  17  79  "
      ],
      "text/html": "<div>\n<style scoped>\n    .dataframe tbody tr th:only-of-type {\n        vertical-align: middle;\n    }\n\n    .dataframe tbody tr th {\n        vertical-align: top;\n    }\n\n    .dataframe thead th {\n        text-align: right;\n    }\n</style>\n<table border=\"1\" class=\"dataframe\">\n  <thead>\n    <tr style=\"text-align: right;\">\n      <th></th>\n      <th>Year</th>\n      <th>Beef and Veal kg(cw)</th>\n      <th>Lamb and Mutton kg(cw)</th>\n      <th>Pig Meat kg(cw)</th>\n      <th>Chicken Meat kg(cw)</th>\n      <th>End</th>\n    </tr>\n  </thead>\n  <tbody>\n    <tr>\n      <th>2</th>\n      <td>1974</td>\n      <td>63</td>\n      <td>25</td>\n      <td>10</td>\n      <td>12</td>\n      <td>75</td>\n    </tr>\n    <tr>\n      <th>3</th>\n      <td>1975</td>\n      <td>67</td>\n      <td>22</td>\n      <td>10</td>\n      <td>13</td>\n      <td>76</td>\n    </tr>\n    <tr>\n      <th>4</th>\n      <td>1976</td>\n      <td>69</td>\n      <td>18</td>\n      <td>10</td>\n      <td>14</td>\n      <td>77</td>\n    </tr>\n    <tr>\n      <th>5</th>\n      <td>1977</td>\n      <td>67</td>\n      <td>18</td>\n      <td>11</td>\n      <td>15</td>\n      <td>78</td>\n    </tr>\n    <tr>\n      <th>6</th>\n      <td>1978</td>\n      <td>57</td>\n      <td>18</td>\n      <td>10</td>\n      <td>17</td>\n      <td>79</td>\n    </tr>\n  </tbody>\n</table>\n</div>"
     },
     "metadata": {},
     "execution_count": 9
    }
   ],
   "source": [
    "# split year column data to keep the intial year\n",
    "meat_consumption[['Year','End']] =meat_consumption.Year.str.split(\"â\",expand=True) \n",
    "meat_consumption.head()"
   ]
  },
  {
   "cell_type": "code",
   "execution_count": 10,
   "metadata": {},
   "outputs": [
    {
     "output_type": "execute_result",
     "data": {
      "text/plain": [
       "   Year Beef and Veal kg(cw) Lamb and Mutton kg(cw) Pig Meat kg(cw)  \\\n",
       "2  1974                   63                     25              10   \n",
       "3  1975                   67                     22              10   \n",
       "4  1976                   69                     18              10   \n",
       "5  1977                   67                     18              11   \n",
       "6  1978                   57                     18              10   \n",
       "\n",
       "  Chicken Meat kg(cw)  \n",
       "2                  12  \n",
       "3                  13  \n",
       "4                  14  \n",
       "5                  15  \n",
       "6                  17  "
      ],
      "text/html": "<div>\n<style scoped>\n    .dataframe tbody tr th:only-of-type {\n        vertical-align: middle;\n    }\n\n    .dataframe tbody tr th {\n        vertical-align: top;\n    }\n\n    .dataframe thead th {\n        text-align: right;\n    }\n</style>\n<table border=\"1\" class=\"dataframe\">\n  <thead>\n    <tr style=\"text-align: right;\">\n      <th></th>\n      <th>Year</th>\n      <th>Beef and Veal kg(cw)</th>\n      <th>Lamb and Mutton kg(cw)</th>\n      <th>Pig Meat kg(cw)</th>\n      <th>Chicken Meat kg(cw)</th>\n    </tr>\n  </thead>\n  <tbody>\n    <tr>\n      <th>2</th>\n      <td>1974</td>\n      <td>63</td>\n      <td>25</td>\n      <td>10</td>\n      <td>12</td>\n    </tr>\n    <tr>\n      <th>3</th>\n      <td>1975</td>\n      <td>67</td>\n      <td>22</td>\n      <td>10</td>\n      <td>13</td>\n    </tr>\n    <tr>\n      <th>4</th>\n      <td>1976</td>\n      <td>69</td>\n      <td>18</td>\n      <td>10</td>\n      <td>14</td>\n    </tr>\n    <tr>\n      <th>5</th>\n      <td>1977</td>\n      <td>67</td>\n      <td>18</td>\n      <td>11</td>\n      <td>15</td>\n    </tr>\n    <tr>\n      <th>6</th>\n      <td>1978</td>\n      <td>57</td>\n      <td>18</td>\n      <td>10</td>\n      <td>17</td>\n    </tr>\n  </tbody>\n</table>\n</div>"
     },
     "metadata": {},
     "execution_count": 10
    }
   ],
   "source": [
    "# filter dataframe to remove unneeded date references\n",
    "meat_consumption = meat_consumption.drop(columns=['End'])\n",
    "\n",
    "meat_consumption.head()"
   ]
  },
  {
   "cell_type": "code",
   "execution_count": 11,
   "metadata": {},
   "outputs": [],
   "source": [
    "meat_consumption.to_csv('meat_consumption.csv',index = False, header=True)"
   ]
  },
  {
   "cell_type": "code",
   "execution_count": null,
   "metadata": {},
   "outputs": [],
   "source": []
  }
 ],
 "metadata": {
  "kernelspec": {
   "name": "python383jvsc74a57bd01967d762c769939a2291d44347683792873ab5f7dbb8a8895d3a32369559e71d",
   "display_name": "Python 3.8.3 64-bit ('base': conda)"
  },
  "language_info": {
   "codemirror_mode": {
    "name": "ipython",
    "version": 3
   },
   "file_extension": ".py",
   "mimetype": "text/x-python",
   "name": "python",
   "nbconvert_exporter": "python",
   "pygments_lexer": "ipython3",
   "version": "3.8.3"
  }
 },
 "nbformat": 4,
 "nbformat_minor": 4
}