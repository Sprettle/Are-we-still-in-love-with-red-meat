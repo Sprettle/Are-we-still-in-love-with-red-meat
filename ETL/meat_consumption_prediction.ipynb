{
 "cells": [
  {
   "cell_type": "code",
   "execution_count": 1,
   "metadata": {
    "nbgrader": {
     "grade": false,
     "grade_id": "cell-195a16dbc662c53b",
     "locked": true,
     "schema_version": 1,
     "solution": false
    }
   },
   "outputs": [],
   "source": [
    "%matplotlib inline\n",
    "import matplotlib.pyplot as plt\n",
    "import numpy as np\n",
    "import pandas as pd"
   ]
  },
  {
   "cell_type": "code",
   "execution_count": 2,
   "metadata": {},
   "outputs": [
    {
     "output_type": "execute_result",
     "data": {
      "text/plain": [
       "   year  beef  lamb  pork  chicken\n",
       "0  1974    63    25    10       12\n",
       "1  1975    67    22    10       13\n",
       "2  1976    69    18    10       14\n",
       "3  1977    67    18    11       15\n",
       "4  1978    57    18    10       17"
      ],
      "text/html": "<div>\n<style scoped>\n    .dataframe tbody tr th:only-of-type {\n        vertical-align: middle;\n    }\n\n    .dataframe tbody tr th {\n        vertical-align: top;\n    }\n\n    .dataframe thead th {\n        text-align: right;\n    }\n</style>\n<table border=\"1\" class=\"dataframe\">\n  <thead>\n    <tr style=\"text-align: right;\">\n      <th></th>\n      <th>year</th>\n      <th>beef</th>\n      <th>lamb</th>\n      <th>pork</th>\n      <th>chicken</th>\n    </tr>\n  </thead>\n  <tbody>\n    <tr>\n      <th>0</th>\n      <td>1974</td>\n      <td>63</td>\n      <td>25</td>\n      <td>10</td>\n      <td>12</td>\n    </tr>\n    <tr>\n      <th>1</th>\n      <td>1975</td>\n      <td>67</td>\n      <td>22</td>\n      <td>10</td>\n      <td>13</td>\n    </tr>\n    <tr>\n      <th>2</th>\n      <td>1976</td>\n      <td>69</td>\n      <td>18</td>\n      <td>10</td>\n      <td>14</td>\n    </tr>\n    <tr>\n      <th>3</th>\n      <td>1977</td>\n      <td>67</td>\n      <td>18</td>\n      <td>11</td>\n      <td>15</td>\n    </tr>\n    <tr>\n      <th>4</th>\n      <td>1978</td>\n      <td>57</td>\n      <td>18</td>\n      <td>10</td>\n      <td>17</td>\n    </tr>\n  </tbody>\n</table>\n</div>"
     },
     "metadata": {},
     "execution_count": 2
    }
   ],
   "source": [
    "# Read the csv file into a pandas DataFrame\n",
    "\n",
    "meat = pd.read_csv('Resources/meat_consumption.csv')\n",
    "meat.head()"
   ]
  },
  {
   "cell_type": "code",
   "execution_count": 3,
   "metadata": {},
   "outputs": [
    {
     "output_type": "stream",
     "name": "stdout",
     "text": [
      "(44, 1) (44, 4)\n"
     ]
    }
   ],
   "source": [
    "# Assign the data to X and y\n",
    "\n",
    "y = meat[[\"beef\", \"lamb\", \"pork\", \"chicken\"]]\n",
    "X = meat[\"year\"].values.reshape(-1, 1)\n",
    "print(X.shape, y.shape)"
   ]
  },
  {
   "cell_type": "code",
   "execution_count": 4,
   "metadata": {
    "nbgrader": {
     "grade": false,
     "grade_id": "cell-97f9d8f3d4b7abc1",
     "locked": false,
     "schema_version": 1,
     "solution": true
    }
   },
   "outputs": [],
   "source": [
    "# Use train_test_split to create training and testing data\n",
    "\n",
    "### BEGIN SOLUTION\n",
    "from sklearn.model_selection import train_test_split\n",
    "\n",
    "X_train, X_test, y_train, y_test = train_test_split(X, y)\n",
    "\n",
    "### END SOLUTION"
   ]
  },
  {
   "cell_type": "code",
   "execution_count": 5,
   "metadata": {
    "nbgrader": {
     "grade": false,
     "grade_id": "cell-500eedfd487be441",
     "locked": false,
     "schema_version": 1,
     "solution": true
    }
   },
   "outputs": [],
   "source": [
    "# Create the model using LinearRegression\n",
    "\n",
    "### BEGIN SOLUTION\n",
    "from sklearn.linear_model import LinearRegression\n",
    "model = LinearRegression()\n",
    "### END SOLUTION"
   ]
  },
  {
   "cell_type": "code",
   "execution_count": 6,
   "metadata": {
    "nbgrader": {
     "grade": false,
     "grade_id": "cell-715f0369813d2b84",
     "locked": false,
     "schema_version": 1,
     "solution": true
    }
   },
   "outputs": [
    {
     "output_type": "stream",
     "name": "stdout",
     "text": [
      "Training Score: 0.8691371723873892\nTesting Score: 0.8369623634877369\n"
     ]
    }
   ],
   "source": [
    "# Fit the model to the training data and calculate the scores for the training and testing data\n",
    "\n",
    "### BEGIN SOLUTION\n",
    "model.fit(X_train, y_train)\n",
    "training_score = model.score(X_train, y_train)\n",
    "testing_score = model.score(X_test, y_test)\n",
    "\n",
    "### END SOLUTION \n",
    "\n",
    "print(f\"Training Score: {training_score}\")\n",
    "print(f\"Testing Score: {testing_score}\")"
   ]
  },
  {
   "cell_type": "code",
   "execution_count": 7,
   "metadata": {
    "nbgrader": {
     "grade": false,
     "grade_id": "cell-90aed41fb7c4f723",
     "locked": false,
     "schema_version": 1,
     "solution": true
    }
   },
   "outputs": [
    {
     "output_type": "execute_result",
     "data": {
      "text/plain": [
       "Text(0.5, 1.0, 'Residual Plot')"
      ]
     },
     "metadata": {},
     "execution_count": 7
    },
    {
     "output_type": "display_data",
     "data": {
      "text/plain": "<Figure size 432x288 with 1 Axes>",
      "image/svg+xml": "<?xml version=\"1.0\" encoding=\"utf-8\" standalone=\"no\"?>\r\n<!DOCTYPE svg PUBLIC \"-//W3C//DTD SVG 1.1//EN\"\r\n  \"http://www.w3.org/Graphics/SVG/1.1/DTD/svg11.dtd\">\r\n<!-- Created with matplotlib (https://matplotlib.org/) -->\r\n<svg height=\"263.63625pt\" version=\"1.1\" viewBox=\"0 0 377.304687 263.63625\" width=\"377.304687pt\" xmlns=\"http://www.w3.org/2000/svg\" xmlns:xlink=\"http://www.w3.org/1999/xlink\">\r\n <defs>\r\n  <style type=\"text/css\">\r\n*{stroke-linecap:butt;stroke-linejoin:round;}\r\n  </style>\r\n </defs>\r\n <g id=\"figure_1\">\r\n  <g id=\"patch_1\">\r\n   <path d=\"M 0 263.63625 \r\nL 377.304687 263.63625 \r\nL 377.304687 0 \r\nL 0 0 \r\nz\r\n\" style=\"fill:none;\"/>\r\n  </g>\r\n  <g id=\"axes_1\">\r\n   <g id=\"patch_2\">\r\n    <path d=\"M 35.304688 239.758125 \r\nL 370.104688 239.758125 \r\nL 370.104688 22.318125 \r\nL 35.304688 22.318125 \r\nz\r\n\" style=\"fill:#ffffff;\"/>\r\n   </g>\r\n   <g id=\"PathCollection_1\">\r\n    <defs>\r\n     <path d=\"M 0 3 \r\nC 0.795609 3 1.55874 2.683901 2.12132 2.12132 \r\nC 2.683901 1.55874 3 0.795609 3 0 \r\nC 3 -0.795609 2.683901 -1.55874 2.12132 -2.12132 \r\nC 1.55874 -2.683901 0.795609 -3 0 -3 \r\nC -0.795609 -3 -1.55874 -2.683901 -2.12132 -2.12132 \r\nC -2.683901 -1.55874 -3 -0.795609 -3 0 \r\nC -3 0.795609 -2.683901 1.55874 -2.12132 2.12132 \r\nC -1.55874 2.683901 -0.795609 3 0 3 \r\nz\r\n\" id=\"mfc15727adb\" style=\"stroke:#0000ff;\"/>\r\n    </defs>\r\n    <g clip-path=\"url(#p8c03d53dc7)\">\r\n     <use style=\"fill:#0000ff;stroke:#0000ff;\" x=\"124.853256\" xlink:href=\"#mfc15727adb\" y=\"112.434705\"/>\r\n     <use style=\"fill:#0000ff;stroke:#0000ff;\" x=\"54.035961\" xlink:href=\"#mfc15727adb\" y=\"93.987352\"/>\r\n     <use style=\"fill:#0000ff;stroke:#0000ff;\" x=\"144.873927\" xlink:href=\"#mfc15727adb\" y=\"104.013242\"/>\r\n     <use style=\"fill:#0000ff;stroke:#0000ff;\" x=\"236.499677\" xlink:href=\"#mfc15727adb\" y=\"130.554705\"/>\r\n     <use style=\"fill:#0000ff;stroke:#0000ff;\" x=\"181.172026\" xlink:href=\"#mfc15727adb\" y=\"84.814181\"/>\r\n     <use style=\"fill:#0000ff;stroke:#0000ff;\" x=\"78.627599\" xlink:href=\"#mfc15727adb\" y=\"104.367223\"/>\r\n     <use style=\"fill:#0000ff;stroke:#0000ff;\" x=\"116.7909\" xlink:href=\"#mfc15727adb\" y=\"81.881625\"/>\r\n     <use style=\"fill:#0000ff;stroke:#0000ff;\" x=\"176.67361\" xlink:href=\"#mfc15727adb\" y=\"92.740511\"/>\r\n     <use style=\"fill:#0000ff;stroke:#0000ff;\" x=\"136.921564\" xlink:href=\"#mfc15727adb\" y=\"144.881022\"/>\r\n     <use style=\"fill:#0000ff;stroke:#0000ff;\" x=\"59.305597\" xlink:href=\"#mfc15727adb\" y=\"84.70211\"/>\r\n     <use style=\"fill:#0000ff;stroke:#0000ff;\" x=\"138.856136\" xlink:href=\"#mfc15727adb\" y=\"96.713086\"/>\r\n     <use style=\"fill:#0000ff;stroke:#0000ff;\" x=\"223.679805\" xlink:href=\"#mfc15727adb\" y=\"108.384496\"/>\r\n     <use style=\"fill:#0000ff;stroke:#0000ff;\" x=\"140.944333\" xlink:href=\"#mfc15727adb\" y=\"119.889127\"/>\r\n     <use style=\"fill:#0000ff;stroke:#0000ff;\" x=\"61.062143\" xlink:href=\"#mfc15727adb\" y=\"81.607029\"/>\r\n     <use style=\"fill:#0000ff;stroke:#0000ff;\" x=\"136.850205\" xlink:href=\"#mfc15727adb\" y=\"100.247589\"/>\r\n     <use style=\"fill:#0000ff;stroke:#0000ff;\" x=\"219.406515\" xlink:href=\"#mfc15727adb\" y=\"115.914149\"/>\r\n     <use style=\"fill:#0000ff;stroke:#0000ff;\" x=\"169.103718\" xlink:href=\"#mfc15727adb\" y=\"106.078865\"/>\r\n     <use style=\"fill:#0000ff;stroke:#0000ff;\" x=\"73.357962\" xlink:href=\"#mfc15727adb\" y=\"95.748798\"/>\r\n     <use style=\"fill:#0000ff;stroke:#0000ff;\" x=\"122.808692\" xlink:href=\"#mfc15727adb\" y=\"107.085448\"/>\r\n     <use style=\"fill:#0000ff;stroke:#0000ff;\" x=\"189.493482\" xlink:href=\"#mfc15727adb\" y=\"97.007052\"/>\r\n     <use style=\"fill:#0000ff;stroke:#0000ff;\" x=\"281.741258\" xlink:href=\"#mfc15727adb\" y=\"229.874489\"/>\r\n     <use style=\"fill:#0000ff;stroke:#0000ff;\" x=\"122.54124\" xlink:href=\"#mfc15727adb\" y=\"53.845704\"/>\r\n     <use style=\"fill:#0000ff;stroke:#0000ff;\" x=\"66.642638\" xlink:href=\"#mfc15727adb\" y=\"80.725881\"/>\r\n     <use style=\"fill:#0000ff;stroke:#0000ff;\" x=\"69.841349\" xlink:href=\"#mfc15727adb\" y=\"110.897\"/>\r\n     <use style=\"fill:#0000ff;stroke:#0000ff;\" x=\"157.03541\" xlink:href=\"#mfc15727adb\" y=\"118.391715\"/>\r\n     <use style=\"fill:#0000ff;stroke:#0000ff;\" x=\"68.088326\" xlink:href=\"#mfc15727adb\" y=\"105.03404\"/>\r\n     <use style=\"fill:#0000ff;stroke:#0000ff;\" x=\"128.826483\" xlink:href=\"#mfc15727adb\" y=\"105.433771\"/>\r\n     <use style=\"fill:#0000ff;stroke:#0000ff;\" x=\"202.313353\" xlink:href=\"#mfc15727adb\" y=\"74.418093\"/>\r\n     <use style=\"fill:#0000ff;stroke:#0000ff;\" x=\"253.581873\" xlink:href=\"#mfc15727adb\" y=\"37.792578\"/>\r\n     <use style=\"fill:#0000ff;stroke:#0000ff;\" x=\"110.245421\" xlink:href=\"#mfc15727adb\" y=\"111.318604\"/>\r\n     <use style=\"fill:#0000ff;stroke:#0000ff;\" x=\"80.684151\" xlink:href=\"#mfc15727adb\" y=\"109.695357\"/>\r\n     <use style=\"fill:#0000ff;stroke:#0000ff;\" x=\"99.754382\" xlink:href=\"#mfc15727adb\" y=\"85.044929\"/>\r\n     <use style=\"fill:#0000ff;stroke:#0000ff;\" x=\"221.399719\" xlink:href=\"#mfc15727adb\" y=\"49.739234\"/>\r\n     <use style=\"fill:#0000ff;stroke:#0000ff;\" x=\"96.193056\" xlink:href=\"#mfc15727adb\" y=\"127.127416\"/>\r\n     <use style=\"fill:#0000ff;stroke:#0000ff;\" x=\"96.731595\" xlink:href=\"#mfc15727adb\" y=\"108.274828\"/>\r\n     <use style=\"fill:#0000ff;stroke:#0000ff;\" x=\"133.940706\" xlink:href=\"#mfc15727adb\" y=\"87.470539\"/>\r\n     <use style=\"fill:#0000ff;stroke:#0000ff;\" x=\"201.285872\" xlink:href=\"#mfc15727adb\" y=\"103.084042\"/>\r\n     <use style=\"fill:#0000ff;stroke:#0000ff;\" x=\"87.410328\" xlink:href=\"#mfc15727adb\" y=\"97.843652\"/>\r\n     <use style=\"fill:#0000ff;stroke:#0000ff;\" x=\"106.761248\" xlink:href=\"#mfc15727adb\" y=\"90.60231\"/>\r\n     <use style=\"fill:#0000ff;stroke:#0000ff;\" x=\"155.307158\" xlink:href=\"#mfc15727adb\" y=\"67.725941\"/>\r\n     <use style=\"fill:#0000ff;stroke:#0000ff;\" x=\"217.37695\" xlink:href=\"#mfc15727adb\" y=\"38.923795\"/>\r\n     <use style=\"fill:#0000ff;stroke:#0000ff;\" x=\"94.43651\" xlink:href=\"#mfc15727adb\" y=\"121.270664\"/>\r\n     <use style=\"fill:#0000ff;stroke:#0000ff;\" x=\"98.737526\" xlink:href=\"#mfc15727adb\" y=\"104.740324\"/>\r\n     <use style=\"fill:#0000ff;stroke:#0000ff;\" x=\"138.213996\" xlink:href=\"#mfc15727adb\" y=\"79.940886\"/>\r\n     <use style=\"fill:#0000ff;stroke:#0000ff;\" x=\"237.490796\" xlink:href=\"#mfc15727adb\" y=\"48.241823\"/>\r\n     <use style=\"fill:#0000ff;stroke:#0000ff;\" x=\"103.219238\" xlink:href=\"#mfc15727adb\" y=\"132.65076\"/>\r\n     <use style=\"fill:#0000ff;stroke:#0000ff;\" x=\"88.707873\" xlink:href=\"#mfc15727adb\" y=\"113.461009\"/>\r\n     <use style=\"fill:#0000ff;stroke:#0000ff;\" x=\"116.847544\" xlink:href=\"#mfc15727adb\" y=\"99.685485\"/>\r\n     <use style=\"fill:#0000ff;stroke:#0000ff;\" x=\"161.058179\" xlink:href=\"#mfc15727adb\" y=\"129.207155\"/>\r\n     <use style=\"fill:#0000ff;stroke:#0000ff;\" x=\"69.844871\" xlink:href=\"#mfc15727adb\" y=\"110.890793\"/>\r\n     <use style=\"fill:#0000ff;stroke:#0000ff;\" x=\"126.820553\" xlink:href=\"#mfc15727adb\" y=\"117.920108\"/>\r\n     <use style=\"fill:#0000ff;stroke:#0000ff;\" x=\"198.040062\" xlink:href=\"#mfc15727adb\" y=\"99.851413\"/>\r\n     <use style=\"fill:#0000ff;stroke:#0000ff;\" x=\"205.308642\" xlink:href=\"#mfc15727adb\" y=\"51.236646\"/>\r\n     <use style=\"fill:#0000ff;stroke:#0000ff;\" x=\"89.166873\" xlink:href=\"#mfc15727adb\" y=\"103.700405\"/>\r\n     <use style=\"fill:#0000ff;stroke:#0000ff;\" x=\"104.755317\" xlink:href=\"#mfc15727adb\" y=\"94.136813\"/>\r\n     <use style=\"fill:#0000ff;stroke:#0000ff;\" x=\"151.033867\" xlink:href=\"#mfc15727adb\" y=\"75.255594\"/>\r\n     <use style=\"fill:#0000ff;stroke:#0000ff;\" x=\"165.080949\" xlink:href=\"#mfc15727adb\" y=\"113.167093\"/>\r\n     <use style=\"fill:#0000ff;stroke:#0000ff;\" x=\"71.601417\" xlink:href=\"#mfc15727adb\" y=\"98.843879\"/>\r\n     <use style=\"fill:#0000ff;stroke:#0000ff;\" x=\"124.814622\" xlink:href=\"#mfc15727adb\" y=\"94.599111\"/>\r\n     <use style=\"fill:#0000ff;stroke:#0000ff;\" x=\"193.766772\" xlink:href=\"#mfc15727adb\" y=\"98.429233\"/>\r\n     <use style=\"fill:#0000ff;stroke:#0000ff;\" x=\"289.786797\" xlink:href=\"#mfc15727adb\" y=\"161.987031\"/>\r\n     <use style=\"fill:#0000ff;stroke:#0000ff;\" x=\"126.054331\" xlink:href=\"#mfc15727adb\" y=\"110.318377\"/>\r\n     <use style=\"fill:#0000ff;stroke:#0000ff;\" x=\"62.630777\" xlink:href=\"#mfc15727adb\" y=\"87.794888\"/>\r\n     <use style=\"fill:#0000ff;stroke:#0000ff;\" x=\"61.294768\" xlink:href=\"#mfc15727adb\" y=\"108.052639\"/>\r\n     <use style=\"fill:#0000ff;stroke:#0000ff;\" x=\"269.672951\" xlink:href=\"#mfc15727adb\" y=\"81.054334\"/>\r\n     <use style=\"fill:#0000ff;stroke:#0000ff;\" x=\"117.271603\" xlink:href=\"#mfc15727adb\" y=\"81.034613\"/>\r\n     <use style=\"fill:#0000ff;stroke:#0000ff;\" x=\"72.660429\" xlink:href=\"#mfc15727adb\" y=\"114.881538\"/>\r\n     <use style=\"fill:#0000ff;stroke:#0000ff;\" x=\"82.66122\" xlink:href=\"#mfc15727adb\" y=\"133.067209\"/>\r\n     <use style=\"fill:#0000ff;stroke:#0000ff;\" x=\"261.627412\" xlink:href=\"#mfc15727adb\" y=\"86.278957\"/>\r\n     <use style=\"fill:#0000ff;stroke:#0000ff;\" x=\"113.758512\" xlink:href=\"#mfc15727adb\" y=\"78.272941\"/>\r\n     <use style=\"fill:#0000ff;stroke:#0000ff;\" x=\"76.67229\" xlink:href=\"#mfc15727adb\" y=\"107.812531\"/>\r\n     <use style=\"fill:#0000ff;stroke:#0000ff;\" x=\"91.207801\" xlink:href=\"#mfc15727adb\" y=\"100.104235\"/>\r\n     <use style=\"fill:#0000ff;stroke:#0000ff;\" x=\"128.876025\" xlink:href=\"#mfc15727adb\" y=\"123.250144\"/>\r\n     <use style=\"fill:#0000ff;stroke:#0000ff;\" x=\"55.792506\" xlink:href=\"#mfc15727adb\" y=\"90.892272\"/>\r\n     <use style=\"fill:#0000ff;stroke:#0000ff;\" x=\"142.867997\" xlink:href=\"#mfc15727adb\" y=\"98.595912\"/>\r\n     <use style=\"fill:#0000ff;stroke:#0000ff;\" x=\"232.226386\" xlink:href=\"#mfc15727adb\" y=\"111.228857\"/>\r\n     <use style=\"fill:#0000ff;stroke:#0000ff;\" x=\"233.468027\" xlink:href=\"#mfc15727adb\" y=\"64.281885\"/>\r\n     <use style=\"fill:#0000ff;stroke:#0000ff;\" x=\"101.462693\" xlink:href=\"#mfc15727adb\" y=\"126.794008\"/>\r\n     <use style=\"fill:#0000ff;stroke:#0000ff;\" x=\"90.713804\" xlink:href=\"#mfc15727adb\" y=\"109.926506\"/>\r\n     <use style=\"fill:#0000ff;stroke:#0000ff;\" x=\"121.120834\" xlink:href=\"#mfc15727adb\" y=\"110.059499\"/>\r\n     <use style=\"fill:#0000ff;stroke:#0000ff;\" x=\"173.126487\" xlink:href=\"#mfc15727adb\" y=\"116.894304\"/>\r\n     <use style=\"fill:#0000ff;stroke:#0000ff;\" x=\"75.114508\" xlink:href=\"#mfc15727adb\" y=\"92.653717\"/>\r\n     <use style=\"fill:#0000ff;stroke:#0000ff;\" x=\"120.802761\" xlink:href=\"#mfc15727adb\" y=\"101.668118\"/>\r\n     <use style=\"fill:#0000ff;stroke:#0000ff;\" x=\"185.220191\" xlink:href=\"#mfc15727adb\" y=\"86.633038\"/>\r\n     <use style=\"fill:#0000ff;stroke:#0000ff;\" x=\"249.559104\" xlink:href=\"#mfc15727adb\" y=\"44.880806\"/>\r\n     <use style=\"fill:#0000ff;stroke:#0000ff;\" x=\"108.488875\" xlink:href=\"#mfc15727adb\" y=\"123.365518\"/>\r\n     <use style=\"fill:#0000ff;stroke:#0000ff;\" x=\"82.690082\" xlink:href=\"#mfc15727adb\" y=\"106.160853\"/>\r\n     <use style=\"fill:#0000ff;stroke:#0000ff;\" x=\"104.027672\" xlink:href=\"#mfc15727adb\" y=\"104.370777\"/>\r\n     <use style=\"fill:#0000ff;stroke:#0000ff;\" x=\"189.217565\" xlink:href=\"#mfc15727adb\" y=\"106.445059\"/>\r\n     <use style=\"fill:#0000ff;stroke:#0000ff;\" x=\"82.140691\" xlink:href=\"#mfc15727adb\" y=\"125.032562\"/>\r\n     <use style=\"fill:#0000ff;stroke:#0000ff;\" x=\"112.779039\" xlink:href=\"#mfc15727adb\" y=\"88.950632\"/>\r\n     <use style=\"fill:#0000ff;stroke:#0000ff;\" x=\"168.127029\" xlink:href=\"#mfc15727adb\" y=\"89.89615\"/>\r\n     <use style=\"fill:#0000ff;stroke:#0000ff;\" x=\"144.967102\" xlink:href=\"#mfc15727adb\" y=\"130.704566\"/>\r\n     <use style=\"fill:#0000ff;stroke:#0000ff;\" x=\"62.818689\" xlink:href=\"#mfc15727adb\" y=\"78.511948\"/>\r\n     <use style=\"fill:#0000ff;stroke:#0000ff;\" x=\"134.844275\" xlink:href=\"#mfc15727adb\" y=\"94.83026\"/>\r\n     <use style=\"fill:#0000ff;stroke:#0000ff;\" x=\"215.133224\" xlink:href=\"#mfc15727adb\" y=\"123.443802\"/>\r\n     <use style=\"fill:#0000ff;stroke:#0000ff;\" x=\"229.445258\" xlink:href=\"#mfc15727adb\" y=\"62.418279\"/>\r\n     <use style=\"fill:#0000ff;stroke:#0000ff;\" x=\"99.706147\" xlink:href=\"#mfc15727adb\" y=\"147.792756\"/>\r\n     <use style=\"fill:#0000ff;stroke:#0000ff;\" x=\"92.719734\" xlink:href=\"#mfc15727adb\" y=\"106.392002\"/>\r\n     <use style=\"fill:#0000ff;stroke:#0000ff;\" x=\"125.394125\" xlink:href=\"#mfc15727adb\" y=\"111.481679\"/>\r\n     <use style=\"fill:#0000ff;stroke:#0000ff;\" x=\"257.604643\" xlink:href=\"#mfc15727adb\" y=\"66.511684\"/>\r\n     <use style=\"fill:#0000ff;stroke:#0000ff;\" x=\"112.001966\" xlink:href=\"#mfc15727adb\" y=\"90.319856\"/>\r\n     <use style=\"fill:#0000ff;stroke:#0000ff;\" x=\"78.678221\" xlink:href=\"#mfc15727adb\" y=\"104.278027\"/>\r\n     <use style=\"fill:#0000ff;stroke:#0000ff;\" x=\"95.481092\" xlink:href=\"#mfc15727adb\" y=\"101.526416\"/>\r\n     <use style=\"fill:#0000ff;stroke:#0000ff;\" x=\"120.830487\" xlink:href=\"#mfc15727adb\" y=\"119.522933\"/>\r\n     <use style=\"fill:#0000ff;stroke:#0000ff;\" x=\"52.279415\" xlink:href=\"#mfc15727adb\" y=\"88.1306\"/>\r\n     <use style=\"fill:#0000ff;stroke:#0000ff;\" x=\"146.879858\" xlink:href=\"#mfc15727adb\" y=\"100.478738\"/>\r\n     <use style=\"fill:#0000ff;stroke:#0000ff;\" x=\"240.772967\" xlink:href=\"#mfc15727adb\" y=\"123.025052\"/>\r\n     <use style=\"fill:#0000ff;stroke:#0000ff;\" x=\"193.240334\" xlink:href=\"#mfc15727adb\" y=\"90.404997\"/>\r\n     <use style=\"fill:#0000ff;stroke:#0000ff;\" x=\"83.897236\" xlink:href=\"#mfc15727adb\" y=\"112.985648\"/>\r\n     <use style=\"fill:#0000ff;stroke:#0000ff;\" x=\"110.773109\" xlink:href=\"#mfc15727adb\" y=\"92.485136\"/>\r\n     <use style=\"fill:#0000ff;stroke:#0000ff;\" x=\"163.853739\" xlink:href=\"#mfc15727adb\" y=\"79.522136\"/>\r\n     <use style=\"fill:#0000ff;stroke:#0000ff;\" x=\"241.513565\" xlink:href=\"#mfc15727adb\" y=\"32.201761\"/>\r\n     <use style=\"fill:#0000ff;stroke:#0000ff;\" x=\"104.975784\" xlink:href=\"#mfc15727adb\" y=\"120.603846\"/>\r\n     <use style=\"fill:#0000ff;stroke:#0000ff;\" x=\"86.701943\" xlink:href=\"#mfc15727adb\" y=\"108.043679\"/>\r\n     <use style=\"fill:#0000ff;stroke:#0000ff;\" x=\"112.574253\" xlink:href=\"#mfc15727adb\" y=\"98.263304\"/>\r\n     <use style=\"fill:#0000ff;stroke:#0000ff;\" x=\"285.764028\" xlink:href=\"#mfc15727adb\" y=\"204.882593\"/>\r\n     <use style=\"fill:#0000ff;stroke:#0000ff;\" x=\"124.297786\" xlink:href=\"#mfc15727adb\" y=\"86.557957\"/>\r\n     <use style=\"fill:#0000ff;stroke:#0000ff;\" x=\"64.636707\" xlink:href=\"#mfc15727adb\" y=\"84.260385\"/>\r\n     <use style=\"fill:#0000ff;stroke:#0000ff;\" x=\"65.568058\" xlink:href=\"#mfc15727adb\" y=\"109.474819\"/>\r\n     <use style=\"fill:#0000ff;stroke:#0000ff;\" x=\"277.718489\" xlink:href=\"#mfc15727adb\" y=\"219.05905\"/>\r\n     <use style=\"fill:#0000ff;stroke:#0000ff;\" x=\"120.784694\" xlink:href=\"#mfc15727adb\" y=\"56.940784\"/>\r\n     <use style=\"fill:#0000ff;stroke:#0000ff;\" x=\"68.648568\" xlink:href=\"#mfc15727adb\" y=\"86.143211\"/>\r\n     <use style=\"fill:#0000ff;stroke:#0000ff;\" x=\"74.114639\" xlink:href=\"#mfc15727adb\" y=\"112.31918\"/>\r\n     <use style=\"fill:#0000ff;stroke:#0000ff;\" x=\"213.35418\" xlink:href=\"#mfc15727adb\" y=\"54.963857\"/>\r\n     <use style=\"fill:#0000ff;stroke:#0000ff;\" x=\"92.679964\" xlink:href=\"#mfc15727adb\" y=\"115.413911\"/>\r\n     <use style=\"fill:#0000ff;stroke:#0000ff;\" x=\"100.743456\" xlink:href=\"#mfc15727adb\" y=\"110.157654\"/>\r\n     <use style=\"fill:#0000ff;stroke:#0000ff;\" x=\"142.487287\" xlink:href=\"#mfc15727adb\" y=\"90.3149\"/>\r\n     <use style=\"fill:#0000ff;stroke:#0000ff;\" x=\"265.650181\" xlink:href=\"#mfc15727adb\" y=\"79.190729\"/>\r\n     <use style=\"fill:#0000ff;stroke:#0000ff;\" x=\"115.515058\" xlink:href=\"#mfc15727adb\" y=\"84.129694\"/>\r\n     <use style=\"fill:#0000ff;stroke:#0000ff;\" x=\"74.66636\" xlink:href=\"#mfc15727adb\" y=\"120.298868\"/>\r\n     <use style=\"fill:#0000ff;stroke:#0000ff;\" x=\"86.934511\" xlink:href=\"#mfc15727adb\" y=\"116.585722\"/>\r\n    </g>\r\n   </g>\r\n   <g id=\"PathCollection_2\">\r\n    <defs>\r\n     <path d=\"M 0 3 \r\nC 0.795609 3 1.55874 2.683901 2.12132 2.12132 \r\nC 2.683901 1.55874 3 0.795609 3 0 \r\nC 3 -0.795609 2.683901 -1.55874 2.12132 -2.12132 \r\nC 1.55874 -2.683901 0.795609 -3 0 -3 \r\nC -0.795609 -3 -1.55874 -2.683901 -2.12132 -2.12132 \r\nC -2.683901 -1.55874 -3 -0.795609 -3 0 \r\nC -3 0.795609 -2.683901 1.55874 -2.12132 2.12132 \r\nC -1.55874 2.683901 -0.795609 3 0 3 \r\nz\r\n\" id=\"m6e9de48e2d\" style=\"stroke:#ffa500;\"/>\r\n    </defs>\r\n    <g clip-path=\"url(#p8c03d53dc7)\">\r\n     <use style=\"fill:#ffa500;stroke:#ffa500;\" x=\"197.263103\" xlink:href=\"#m6e9de48e2d\" y=\"92.268603\"/>\r\n     <use style=\"fill:#ffa500;stroke:#ffa500;\" x=\"85.653782\" xlink:href=\"#m6e9de48e2d\" y=\"109.890567\"/>\r\n     <use style=\"fill:#ffa500;stroke:#ffa500;\" x=\"108.767178\" xlink:href=\"#m6e9de48e2d\" y=\"87.067806\"/>\r\n     <use style=\"fill:#ffa500;stroke:#ffa500;\" x=\"159.580448\" xlink:href=\"#m6e9de48e2d\" y=\"78.099955\"/>\r\n     <use style=\"fill:#ffa500;stroke:#ffa500;\" x=\"185.194795\" xlink:href=\"#m6e9de48e2d\" y=\"86.677786\"/>\r\n     <use style=\"fill:#ffa500;stroke:#ffa500;\" x=\"80.384145\" xlink:href=\"#m6e9de48e2d\" y=\"119.175809\"/>\r\n     <use style=\"fill:#ffa500;stroke:#ffa500;\" x=\"114.78497\" xlink:href=\"#m6e9de48e2d\" y=\"67.512461\"/>\r\n     <use style=\"fill:#ffa500;stroke:#ffa500;\" x=\"172.40032\" xlink:href=\"#m6e9de48e2d\" y=\"82.366497\"/>\r\n     <use style=\"fill:#ffa500;stroke:#ffa500;\" x=\"225.422488\" xlink:href=\"#m6e9de48e2d\" y=\"60.554674\"/>\r\n     <use style=\"fill:#ffa500;stroke:#ffa500;\" x=\"97.949601\" xlink:href=\"#m6e9de48e2d\" y=\"141.936003\"/>\r\n     <use style=\"fill:#ffa500;stroke:#ffa500;\" x=\"94.725665\" xlink:href=\"#m6e9de48e2d\" y=\"102.857498\"/>\r\n     <use style=\"fill:#ffa500;stroke:#ffa500;\" x=\"129.667415\" xlink:href=\"#m6e9de48e2d\" y=\"77.096525\"/>\r\n     <use style=\"fill:#ffa500;stroke:#ffa500;\" x=\"209.331411\" xlink:href=\"#m6e9de48e2d\" y=\"62.052085\"/>\r\n     <use style=\"fill:#ffa500;stroke:#ffa500;\" x=\"90.923419\" xlink:href=\"#m6e9de48e2d\" y=\"109.557158\"/>\r\n     <use style=\"fill:#ffa500;stroke:#ffa500;\" x=\"102.749387\" xlink:href=\"#m6e9de48e2d\" y=\"106.623151\"/>\r\n     <use style=\"fill:#ffa500;stroke:#ffa500;\" x=\"146.760577\" xlink:href=\"#m6e9de48e2d\" y=\"73.833414\"/>\r\n     <use style=\"fill:#ffa500;stroke:#ffa500;\" x=\"153.012641\" xlink:href=\"#m6e9de48e2d\" y=\"98.624443\"/>\r\n     <use style=\"fill:#ffa500;stroke:#ffa500;\" x=\"66.33178\" xlink:href=\"#m6e9de48e2d\" y=\"90.225454\"/>\r\n     <use style=\"fill:#ffa500;stroke:#ffa500;\" x=\"130.832414\" xlink:href=\"#m6e9de48e2d\" y=\"92.947433\"/>\r\n     <use style=\"fill:#ffa500;stroke:#ffa500;\" x=\"206.586643\" xlink:href=\"#m6e9de48e2d\" y=\"75.840273\"/>\r\n     <use style=\"fill:#ffa500;stroke:#ffa500;\" x=\"177.149257\" xlink:href=\"#m6e9de48e2d\" y=\"100.854242\"/>\r\n     <use style=\"fill:#ffa500;stroke:#ffa500;\" x=\"76.871054\" xlink:href=\"#m6e9de48e2d\" y=\"98.51047\"/>\r\n     <use style=\"fill:#ffa500;stroke:#ffa500;\" x=\"118.796831\" xlink:href=\"#m6e9de48e2d\" y=\"87.298955\"/>\r\n     <use style=\"fill:#ffa500;stroke:#ffa500;\" x=\"180.946901\" xlink:href=\"#m6e9de48e2d\" y=\"94.162691\"/>\r\n     <use style=\"fill:#ffa500;stroke:#ffa500;\" x=\"273.69572\" xlink:href=\"#m6e9de48e2d\" y=\"136.628942\"/>\r\n     <use style=\"fill:#ffa500;stroke:#ffa500;\" x=\"119.028149\" xlink:href=\"#m6e9de48e2d\" y=\"60.035865\"/>\r\n     <use style=\"fill:#ffa500;stroke:#ffa500;\" x=\"70.654499\" xlink:href=\"#m6e9de48e2d\" y=\"73.656874\"/>\r\n     <use style=\"fill:#ffa500;stroke:#ffa500;\" x=\"78.38793\" xlink:href=\"#m6e9de48e2d\" y=\"122.693195\"/>\r\n     <use style=\"fill:#ffa500;stroke:#ffa500;\" x=\"148.989872\" xlink:href=\"#m6e9de48e2d\" y=\"141.520005\"/>\r\n     <use style=\"fill:#ffa500;stroke:#ffa500;\" x=\"64.575234\" xlink:href=\"#m6e9de48e2d\" y=\"93.320535\"/>\r\n     <use style=\"fill:#ffa500;stroke:#ffa500;\" x=\"132.838344\" xlink:href=\"#m6e9de48e2d\" y=\"107.316597\"/>\r\n     <use style=\"fill:#ffa500;stroke:#ffa500;\" x=\"210.859934\" xlink:href=\"#m6e9de48e2d\" y=\"68.31062\"/>\r\n     <use style=\"fill:#ffa500;stroke:#ffa500;\" x=\"116.807717\" xlink:href=\"#m6e9de48e2d\" y=\"117.659327\"/>\r\n     <use style=\"fill:#ffa500;stroke:#ffa500;\" x=\"50.522869\" xlink:href=\"#m6e9de48e2d\" y=\"91.22568\"/>\r\n     <use style=\"fill:#ffa500;stroke:#ffa500;\" x=\"148.885788\" xlink:href=\"#m6e9de48e2d\" y=\"87.992401\"/>\r\n     <use style=\"fill:#ffa500;stroke:#ffa500;\" x=\"245.046258\" xlink:href=\"#m6e9de48e2d\" y=\"97.591731\"/>\r\n     <use style=\"fill:#ffa500;stroke:#ffa500;\" x=\"245.536335\" xlink:href=\"#m6e9de48e2d\" y=\"43.0172\"/>\r\n     <use style=\"fill:#ffa500;stroke:#ffa500;\" x=\"106.732329\" xlink:href=\"#m6e9de48e2d\" y=\"135.412432\"/>\r\n     <use style=\"fill:#ffa500;stroke:#ffa500;\" x=\"84.696012\" xlink:href=\"#m6e9de48e2d\" y=\"111.578183\"/>\r\n     <use style=\"fill:#ffa500;stroke:#ffa500;\" x=\"108.300963\" xlink:href=\"#m6e9de48e2d\" y=\"105.792957\"/>\r\n     <use style=\"fill:#ffa500;stroke:#ffa500;\" x=\"132.898794\" xlink:href=\"#m6e9de48e2d\" y=\"143.017417\"/>\r\n     <use style=\"fill:#ffa500;stroke:#ffa500;\" x=\"57.549052\" xlink:href=\"#m6e9de48e2d\" y=\"87.797191\"/>\r\n     <use style=\"fill:#ffa500;stroke:#ffa500;\" x=\"140.862066\" xlink:href=\"#m6e9de48e2d\" y=\"84.226749\"/>\r\n     <use style=\"fill:#ffa500;stroke:#ffa500;\" x=\"227.953096\" xlink:href=\"#m6e9de48e2d\" y=\"109.806677\"/>\r\n    </g>\r\n   </g>\r\n   <g id=\"matplotlib.axis_1\">\r\n    <g id=\"xtick_1\">\r\n     <g id=\"line2d_1\">\r\n      <defs>\r\n       <path d=\"M 0 0 \r\nL 0 3.5 \r\n\" id=\"md2a77eac41\" style=\"stroke:#000000;stroke-width:0.8;\"/>\r\n      </defs>\r\n      <g>\r\n       <use style=\"stroke:#000000;stroke-width:0.8;\" x=\"55.141844\" xlink:href=\"#md2a77eac41\" y=\"239.758125\"/>\r\n      </g>\r\n     </g>\r\n     <g id=\"text_1\">\r\n      <!-- 10 -->\r\n      <defs>\r\n       <path d=\"M 12.40625 8.296875 \r\nL 28.515625 8.296875 \r\nL 28.515625 63.921875 \r\nL 10.984375 60.40625 \r\nL 10.984375 69.390625 \r\nL 28.421875 72.90625 \r\nL 38.28125 72.90625 \r\nL 38.28125 8.296875 \r\nL 54.390625 8.296875 \r\nL 54.390625 0 \r\nL 12.40625 0 \r\nz\r\n\" id=\"DejaVuSans-49\"/>\r\n       <path d=\"M 31.78125 66.40625 \r\nQ 24.171875 66.40625 20.328125 58.90625 \r\nQ 16.5 51.421875 16.5 36.375 \r\nQ 16.5 21.390625 20.328125 13.890625 \r\nQ 24.171875 6.390625 31.78125 6.390625 \r\nQ 39.453125 6.390625 43.28125 13.890625 \r\nQ 47.125 21.390625 47.125 36.375 \r\nQ 47.125 51.421875 43.28125 58.90625 \r\nQ 39.453125 66.40625 31.78125 66.40625 \r\nz\r\nM 31.78125 74.21875 \r\nQ 44.046875 74.21875 50.515625 64.515625 \r\nQ 56.984375 54.828125 56.984375 36.375 \r\nQ 56.984375 17.96875 50.515625 8.265625 \r\nQ 44.046875 -1.421875 31.78125 -1.421875 \r\nQ 19.53125 -1.421875 13.0625 8.265625 \r\nQ 6.59375 17.96875 6.59375 36.375 \r\nQ 6.59375 54.828125 13.0625 64.515625 \r\nQ 19.53125 74.21875 31.78125 74.21875 \r\nz\r\n\" id=\"DejaVuSans-48\"/>\r\n      </defs>\r\n      <g transform=\"translate(48.779344 254.356563)scale(0.1 -0.1)\">\r\n       <use xlink:href=\"#DejaVuSans-49\"/>\r\n       <use x=\"63.623047\" xlink:href=\"#DejaVuSans-48\"/>\r\n      </g>\r\n     </g>\r\n    </g>\r\n    <g id=\"xtick_2\">\r\n     <g id=\"line2d_2\">\r\n      <g>\r\n       <use style=\"stroke:#000000;stroke-width:0.8;\" x=\"105.946024\" xlink:href=\"#md2a77eac41\" y=\"239.758125\"/>\r\n      </g>\r\n     </g>\r\n     <g id=\"text_2\">\r\n      <!-- 20 -->\r\n      <defs>\r\n       <path d=\"M 19.1875 8.296875 \r\nL 53.609375 8.296875 \r\nL 53.609375 0 \r\nL 7.328125 0 \r\nL 7.328125 8.296875 \r\nQ 12.9375 14.109375 22.625 23.890625 \r\nQ 32.328125 33.6875 34.8125 36.53125 \r\nQ 39.546875 41.84375 41.421875 45.53125 \r\nQ 43.3125 49.21875 43.3125 52.78125 \r\nQ 43.3125 58.59375 39.234375 62.25 \r\nQ 35.15625 65.921875 28.609375 65.921875 \r\nQ 23.96875 65.921875 18.8125 64.3125 \r\nQ 13.671875 62.703125 7.8125 59.421875 \r\nL 7.8125 69.390625 \r\nQ 13.765625 71.78125 18.9375 73 \r\nQ 24.125 74.21875 28.421875 74.21875 \r\nQ 39.75 74.21875 46.484375 68.546875 \r\nQ 53.21875 62.890625 53.21875 53.421875 \r\nQ 53.21875 48.921875 51.53125 44.890625 \r\nQ 49.859375 40.875 45.40625 35.40625 \r\nQ 44.1875 33.984375 37.640625 27.21875 \r\nQ 31.109375 20.453125 19.1875 8.296875 \r\nz\r\n\" id=\"DejaVuSans-50\"/>\r\n      </defs>\r\n      <g transform=\"translate(99.583524 254.356563)scale(0.1 -0.1)\">\r\n       <use xlink:href=\"#DejaVuSans-50\"/>\r\n       <use x=\"63.623047\" xlink:href=\"#DejaVuSans-48\"/>\r\n      </g>\r\n     </g>\r\n    </g>\r\n    <g id=\"xtick_3\">\r\n     <g id=\"line2d_3\">\r\n      <g>\r\n       <use style=\"stroke:#000000;stroke-width:0.8;\" x=\"156.750204\" xlink:href=\"#md2a77eac41\" y=\"239.758125\"/>\r\n      </g>\r\n     </g>\r\n     <g id=\"text_3\">\r\n      <!-- 30 -->\r\n      <defs>\r\n       <path d=\"M 40.578125 39.3125 \r\nQ 47.65625 37.796875 51.625 33 \r\nQ 55.609375 28.21875 55.609375 21.1875 \r\nQ 55.609375 10.40625 48.1875 4.484375 \r\nQ 40.765625 -1.421875 27.09375 -1.421875 \r\nQ 22.515625 -1.421875 17.65625 -0.515625 \r\nQ 12.796875 0.390625 7.625 2.203125 \r\nL 7.625 11.71875 \r\nQ 11.71875 9.328125 16.59375 8.109375 \r\nQ 21.484375 6.890625 26.8125 6.890625 \r\nQ 36.078125 6.890625 40.9375 10.546875 \r\nQ 45.796875 14.203125 45.796875 21.1875 \r\nQ 45.796875 27.640625 41.28125 31.265625 \r\nQ 36.765625 34.90625 28.71875 34.90625 \r\nL 20.21875 34.90625 \r\nL 20.21875 43.015625 \r\nL 29.109375 43.015625 \r\nQ 36.375 43.015625 40.234375 45.921875 \r\nQ 44.09375 48.828125 44.09375 54.296875 \r\nQ 44.09375 59.90625 40.109375 62.90625 \r\nQ 36.140625 65.921875 28.71875 65.921875 \r\nQ 24.65625 65.921875 20.015625 65.03125 \r\nQ 15.375 64.15625 9.8125 62.3125 \r\nL 9.8125 71.09375 \r\nQ 15.4375 72.65625 20.34375 73.4375 \r\nQ 25.25 74.21875 29.59375 74.21875 \r\nQ 40.828125 74.21875 47.359375 69.109375 \r\nQ 53.90625 64.015625 53.90625 55.328125 \r\nQ 53.90625 49.265625 50.4375 45.09375 \r\nQ 46.96875 40.921875 40.578125 39.3125 \r\nz\r\n\" id=\"DejaVuSans-51\"/>\r\n      </defs>\r\n      <g transform=\"translate(150.387704 254.356563)scale(0.1 -0.1)\">\r\n       <use xlink:href=\"#DejaVuSans-51\"/>\r\n       <use x=\"63.623047\" xlink:href=\"#DejaVuSans-48\"/>\r\n      </g>\r\n     </g>\r\n    </g>\r\n    <g id=\"xtick_4\">\r\n     <g id=\"line2d_4\">\r\n      <g>\r\n       <use style=\"stroke:#000000;stroke-width:0.8;\" x=\"207.554384\" xlink:href=\"#md2a77eac41\" y=\"239.758125\"/>\r\n      </g>\r\n     </g>\r\n     <g id=\"text_4\">\r\n      <!-- 40 -->\r\n      <defs>\r\n       <path d=\"M 37.796875 64.3125 \r\nL 12.890625 25.390625 \r\nL 37.796875 25.390625 \r\nz\r\nM 35.203125 72.90625 \r\nL 47.609375 72.90625 \r\nL 47.609375 25.390625 \r\nL 58.015625 25.390625 \r\nL 58.015625 17.1875 \r\nL 47.609375 17.1875 \r\nL 47.609375 0 \r\nL 37.796875 0 \r\nL 37.796875 17.1875 \r\nL 4.890625 17.1875 \r\nL 4.890625 26.703125 \r\nz\r\n\" id=\"DejaVuSans-52\"/>\r\n      </defs>\r\n      <g transform=\"translate(201.191884 254.356563)scale(0.1 -0.1)\">\r\n       <use xlink:href=\"#DejaVuSans-52\"/>\r\n       <use x=\"63.623047\" xlink:href=\"#DejaVuSans-48\"/>\r\n      </g>\r\n     </g>\r\n    </g>\r\n    <g id=\"xtick_5\">\r\n     <g id=\"line2d_5\">\r\n      <g>\r\n       <use style=\"stroke:#000000;stroke-width:0.8;\" x=\"258.358564\" xlink:href=\"#md2a77eac41\" y=\"239.758125\"/>\r\n      </g>\r\n     </g>\r\n     <g id=\"text_5\">\r\n      <!-- 50 -->\r\n      <defs>\r\n       <path d=\"M 10.796875 72.90625 \r\nL 49.515625 72.90625 \r\nL 49.515625 64.59375 \r\nL 19.828125 64.59375 \r\nL 19.828125 46.734375 \r\nQ 21.96875 47.46875 24.109375 47.828125 \r\nQ 26.265625 48.1875 28.421875 48.1875 \r\nQ 40.625 48.1875 47.75 41.5 \r\nQ 54.890625 34.8125 54.890625 23.390625 \r\nQ 54.890625 11.625 47.5625 5.09375 \r\nQ 40.234375 -1.421875 26.90625 -1.421875 \r\nQ 22.3125 -1.421875 17.546875 -0.640625 \r\nQ 12.796875 0.140625 7.71875 1.703125 \r\nL 7.71875 11.625 \r\nQ 12.109375 9.234375 16.796875 8.0625 \r\nQ 21.484375 6.890625 26.703125 6.890625 \r\nQ 35.15625 6.890625 40.078125 11.328125 \r\nQ 45.015625 15.765625 45.015625 23.390625 \r\nQ 45.015625 31 40.078125 35.4375 \r\nQ 35.15625 39.890625 26.703125 39.890625 \r\nQ 22.75 39.890625 18.8125 39.015625 \r\nQ 14.890625 38.140625 10.796875 36.28125 \r\nz\r\n\" id=\"DejaVuSans-53\"/>\r\n      </defs>\r\n      <g transform=\"translate(251.996064 254.356563)scale(0.1 -0.1)\">\r\n       <use xlink:href=\"#DejaVuSans-53\"/>\r\n       <use x=\"63.623047\" xlink:href=\"#DejaVuSans-48\"/>\r\n      </g>\r\n     </g>\r\n    </g>\r\n    <g id=\"xtick_6\">\r\n     <g id=\"line2d_6\">\r\n      <g>\r\n       <use style=\"stroke:#000000;stroke-width:0.8;\" x=\"309.162744\" xlink:href=\"#md2a77eac41\" y=\"239.758125\"/>\r\n      </g>\r\n     </g>\r\n     <g id=\"text_6\">\r\n      <!-- 60 -->\r\n      <defs>\r\n       <path d=\"M 33.015625 40.375 \r\nQ 26.375 40.375 22.484375 35.828125 \r\nQ 18.609375 31.296875 18.609375 23.390625 \r\nQ 18.609375 15.53125 22.484375 10.953125 \r\nQ 26.375 6.390625 33.015625 6.390625 \r\nQ 39.65625 6.390625 43.53125 10.953125 \r\nQ 47.40625 15.53125 47.40625 23.390625 \r\nQ 47.40625 31.296875 43.53125 35.828125 \r\nQ 39.65625 40.375 33.015625 40.375 \r\nz\r\nM 52.59375 71.296875 \r\nL 52.59375 62.3125 \r\nQ 48.875 64.0625 45.09375 64.984375 \r\nQ 41.3125 65.921875 37.59375 65.921875 \r\nQ 27.828125 65.921875 22.671875 59.328125 \r\nQ 17.53125 52.734375 16.796875 39.40625 \r\nQ 19.671875 43.65625 24.015625 45.921875 \r\nQ 28.375 48.1875 33.59375 48.1875 \r\nQ 44.578125 48.1875 50.953125 41.515625 \r\nQ 57.328125 34.859375 57.328125 23.390625 \r\nQ 57.328125 12.15625 50.6875 5.359375 \r\nQ 44.046875 -1.421875 33.015625 -1.421875 \r\nQ 20.359375 -1.421875 13.671875 8.265625 \r\nQ 6.984375 17.96875 6.984375 36.375 \r\nQ 6.984375 53.65625 15.1875 63.9375 \r\nQ 23.390625 74.21875 37.203125 74.21875 \r\nQ 40.921875 74.21875 44.703125 73.484375 \r\nQ 48.484375 72.75 52.59375 71.296875 \r\nz\r\n\" id=\"DejaVuSans-54\"/>\r\n      </defs>\r\n      <g transform=\"translate(302.800244 254.356563)scale(0.1 -0.1)\">\r\n       <use xlink:href=\"#DejaVuSans-54\"/>\r\n       <use x=\"63.623047\" xlink:href=\"#DejaVuSans-48\"/>\r\n      </g>\r\n     </g>\r\n    </g>\r\n    <g id=\"xtick_7\">\r\n     <g id=\"line2d_7\">\r\n      <g>\r\n       <use style=\"stroke:#000000;stroke-width:0.8;\" x=\"359.966924\" xlink:href=\"#md2a77eac41\" y=\"239.758125\"/>\r\n      </g>\r\n     </g>\r\n     <g id=\"text_7\">\r\n      <!-- 70 -->\r\n      <defs>\r\n       <path d=\"M 8.203125 72.90625 \r\nL 55.078125 72.90625 \r\nL 55.078125 68.703125 \r\nL 28.609375 0 \r\nL 18.3125 0 \r\nL 43.21875 64.59375 \r\nL 8.203125 64.59375 \r\nz\r\n\" id=\"DejaVuSans-55\"/>\r\n      </defs>\r\n      <g transform=\"translate(353.604424 254.356563)scale(0.1 -0.1)\">\r\n       <use xlink:href=\"#DejaVuSans-55\"/>\r\n       <use x=\"63.623047\" xlink:href=\"#DejaVuSans-48\"/>\r\n      </g>\r\n     </g>\r\n    </g>\r\n   </g>\r\n   <g id=\"matplotlib.axis_2\">\r\n    <g id=\"ytick_1\">\r\n     <g id=\"line2d_8\">\r\n      <defs>\r\n       <path d=\"M 0 0 \r\nL -3.5 0 \r\n\" id=\"m0fdf81ddbc\" style=\"stroke:#000000;stroke-width:0.8;\"/>\r\n      </defs>\r\n      <g>\r\n       <use style=\"stroke:#000000;stroke-width:0.8;\" x=\"35.304688\" xlink:href=\"#m0fdf81ddbc\" y=\"235.268093\"/>\r\n      </g>\r\n     </g>\r\n     <g id=\"text_8\">\r\n      <!-- −15 -->\r\n      <defs>\r\n       <path d=\"M 10.59375 35.5 \r\nL 73.1875 35.5 \r\nL 73.1875 27.203125 \r\nL 10.59375 27.203125 \r\nz\r\n\" id=\"DejaVuSans-8722\"/>\r\n      </defs>\r\n      <g transform=\"translate(7.2 239.067312)scale(0.1 -0.1)\">\r\n       <use xlink:href=\"#DejaVuSans-8722\"/>\r\n       <use x=\"83.789062\" xlink:href=\"#DejaVuSans-49\"/>\r\n       <use x=\"147.412109\" xlink:href=\"#DejaVuSans-53\"/>\r\n      </g>\r\n     </g>\r\n    </g>\r\n    <g id=\"ytick_2\">\r\n     <g id=\"line2d_9\">\r\n      <g>\r\n       <use style=\"stroke:#000000;stroke-width:0.8;\" x=\"35.304688\" xlink:href=\"#m0fdf81ddbc\" y=\"190.508925\"/>\r\n      </g>\r\n     </g>\r\n     <g id=\"text_9\">\r\n      <!-- −10 -->\r\n      <g transform=\"translate(7.2 194.308144)scale(0.1 -0.1)\">\r\n       <use xlink:href=\"#DejaVuSans-8722\"/>\r\n       <use x=\"83.789062\" xlink:href=\"#DejaVuSans-49\"/>\r\n       <use x=\"147.412109\" xlink:href=\"#DejaVuSans-48\"/>\r\n      </g>\r\n     </g>\r\n    </g>\r\n    <g id=\"ytick_3\">\r\n     <g id=\"line2d_10\">\r\n      <g>\r\n       <use style=\"stroke:#000000;stroke-width:0.8;\" x=\"35.304688\" xlink:href=\"#m0fdf81ddbc\" y=\"145.749757\"/>\r\n      </g>\r\n     </g>\r\n     <g id=\"text_10\">\r\n      <!-- −5 -->\r\n      <g transform=\"translate(13.5625 149.548976)scale(0.1 -0.1)\">\r\n       <use xlink:href=\"#DejaVuSans-8722\"/>\r\n       <use x=\"83.789062\" xlink:href=\"#DejaVuSans-53\"/>\r\n      </g>\r\n     </g>\r\n    </g>\r\n    <g id=\"ytick_4\">\r\n     <g id=\"line2d_11\">\r\n      <g>\r\n       <use style=\"stroke:#000000;stroke-width:0.8;\" x=\"35.304688\" xlink:href=\"#m0fdf81ddbc\" y=\"100.990589\"/>\r\n      </g>\r\n     </g>\r\n     <g id=\"text_11\">\r\n      <!-- 0 -->\r\n      <g transform=\"translate(21.942188 104.789808)scale(0.1 -0.1)\">\r\n       <use xlink:href=\"#DejaVuSans-48\"/>\r\n      </g>\r\n     </g>\r\n    </g>\r\n    <g id=\"ytick_5\">\r\n     <g id=\"line2d_12\">\r\n      <g>\r\n       <use style=\"stroke:#000000;stroke-width:0.8;\" x=\"35.304688\" xlink:href=\"#m0fdf81ddbc\" y=\"56.231421\"/>\r\n      </g>\r\n     </g>\r\n     <g id=\"text_12\">\r\n      <!-- 5 -->\r\n      <g transform=\"translate(21.942188 60.03064)scale(0.1 -0.1)\">\r\n       <use xlink:href=\"#DejaVuSans-53\"/>\r\n      </g>\r\n     </g>\r\n    </g>\r\n   </g>\r\n   <g id=\"LineCollection_1\">\r\n    <path clip-path=\"url(#p8c03d53dc7)\" d=\"M 126.267696 100.990589 \r\nL 354.886506 100.990589 \r\n\" style=\"fill:none;stroke:#000000;stroke-width:1.5;\"/>\r\n   </g>\r\n   <g id=\"patch_3\">\r\n    <path d=\"M 35.304688 239.758125 \r\nL 35.304688 22.318125 \r\n\" style=\"fill:none;stroke:#000000;stroke-linecap:square;stroke-linejoin:miter;stroke-width:0.8;\"/>\r\n   </g>\r\n   <g id=\"patch_4\">\r\n    <path d=\"M 370.104688 239.758125 \r\nL 370.104688 22.318125 \r\n\" style=\"fill:none;stroke:#000000;stroke-linecap:square;stroke-linejoin:miter;stroke-width:0.8;\"/>\r\n   </g>\r\n   <g id=\"patch_5\">\r\n    <path d=\"M 35.304688 239.758125 \r\nL 370.104687 239.758125 \r\n\" style=\"fill:none;stroke:#000000;stroke-linecap:square;stroke-linejoin:miter;stroke-width:0.8;\"/>\r\n   </g>\r\n   <g id=\"patch_6\">\r\n    <path d=\"M 35.304688 22.318125 \r\nL 370.104687 22.318125 \r\n\" style=\"fill:none;stroke:#000000;stroke-linecap:square;stroke-linejoin:miter;stroke-width:0.8;\"/>\r\n   </g>\r\n   <g id=\"text_13\">\r\n    <!-- Residual Plot -->\r\n    <defs>\r\n     <path d=\"M 44.390625 34.1875 \r\nQ 47.5625 33.109375 50.5625 29.59375 \r\nQ 53.5625 26.078125 56.59375 19.921875 \r\nL 66.609375 0 \r\nL 56 0 \r\nL 46.6875 18.703125 \r\nQ 43.0625 26.03125 39.671875 28.421875 \r\nQ 36.28125 30.8125 30.421875 30.8125 \r\nL 19.671875 30.8125 \r\nL 19.671875 0 \r\nL 9.8125 0 \r\nL 9.8125 72.90625 \r\nL 32.078125 72.90625 \r\nQ 44.578125 72.90625 50.734375 67.671875 \r\nQ 56.890625 62.453125 56.890625 51.90625 \r\nQ 56.890625 45.015625 53.6875 40.46875 \r\nQ 50.484375 35.9375 44.390625 34.1875 \r\nz\r\nM 19.671875 64.796875 \r\nL 19.671875 38.921875 \r\nL 32.078125 38.921875 \r\nQ 39.203125 38.921875 42.84375 42.21875 \r\nQ 46.484375 45.515625 46.484375 51.90625 \r\nQ 46.484375 58.296875 42.84375 61.546875 \r\nQ 39.203125 64.796875 32.078125 64.796875 \r\nz\r\n\" id=\"DejaVuSans-82\"/>\r\n     <path d=\"M 56.203125 29.59375 \r\nL 56.203125 25.203125 \r\nL 14.890625 25.203125 \r\nQ 15.484375 15.921875 20.484375 11.0625 \r\nQ 25.484375 6.203125 34.421875 6.203125 \r\nQ 39.59375 6.203125 44.453125 7.46875 \r\nQ 49.3125 8.734375 54.109375 11.28125 \r\nL 54.109375 2.78125 \r\nQ 49.265625 0.734375 44.1875 -0.34375 \r\nQ 39.109375 -1.421875 33.890625 -1.421875 \r\nQ 20.796875 -1.421875 13.15625 6.1875 \r\nQ 5.515625 13.8125 5.515625 26.8125 \r\nQ 5.515625 40.234375 12.765625 48.109375 \r\nQ 20.015625 56 32.328125 56 \r\nQ 43.359375 56 49.78125 48.890625 \r\nQ 56.203125 41.796875 56.203125 29.59375 \r\nz\r\nM 47.21875 32.234375 \r\nQ 47.125 39.59375 43.09375 43.984375 \r\nQ 39.0625 48.390625 32.421875 48.390625 \r\nQ 24.90625 48.390625 20.390625 44.140625 \r\nQ 15.875 39.890625 15.1875 32.171875 \r\nz\r\n\" id=\"DejaVuSans-101\"/>\r\n     <path d=\"M 44.28125 53.078125 \r\nL 44.28125 44.578125 \r\nQ 40.484375 46.53125 36.375 47.5 \r\nQ 32.28125 48.484375 27.875 48.484375 \r\nQ 21.1875 48.484375 17.84375 46.4375 \r\nQ 14.5 44.390625 14.5 40.28125 \r\nQ 14.5 37.15625 16.890625 35.375 \r\nQ 19.28125 33.59375 26.515625 31.984375 \r\nL 29.59375 31.296875 \r\nQ 39.15625 29.25 43.1875 25.515625 \r\nQ 47.21875 21.78125 47.21875 15.09375 \r\nQ 47.21875 7.46875 41.1875 3.015625 \r\nQ 35.15625 -1.421875 24.609375 -1.421875 \r\nQ 20.21875 -1.421875 15.453125 -0.5625 \r\nQ 10.6875 0.296875 5.421875 2 \r\nL 5.421875 11.28125 \r\nQ 10.40625 8.6875 15.234375 7.390625 \r\nQ 20.0625 6.109375 24.8125 6.109375 \r\nQ 31.15625 6.109375 34.5625 8.28125 \r\nQ 37.984375 10.453125 37.984375 14.40625 \r\nQ 37.984375 18.0625 35.515625 20.015625 \r\nQ 33.0625 21.96875 24.703125 23.78125 \r\nL 21.578125 24.515625 \r\nQ 13.234375 26.265625 9.515625 29.90625 \r\nQ 5.8125 33.546875 5.8125 39.890625 \r\nQ 5.8125 47.609375 11.28125 51.796875 \r\nQ 16.75 56 26.8125 56 \r\nQ 31.78125 56 36.171875 55.265625 \r\nQ 40.578125 54.546875 44.28125 53.078125 \r\nz\r\n\" id=\"DejaVuSans-115\"/>\r\n     <path d=\"M 9.421875 54.6875 \r\nL 18.40625 54.6875 \r\nL 18.40625 0 \r\nL 9.421875 0 \r\nz\r\nM 9.421875 75.984375 \r\nL 18.40625 75.984375 \r\nL 18.40625 64.59375 \r\nL 9.421875 64.59375 \r\nz\r\n\" id=\"DejaVuSans-105\"/>\r\n     <path d=\"M 45.40625 46.390625 \r\nL 45.40625 75.984375 \r\nL 54.390625 75.984375 \r\nL 54.390625 0 \r\nL 45.40625 0 \r\nL 45.40625 8.203125 \r\nQ 42.578125 3.328125 38.25 0.953125 \r\nQ 33.9375 -1.421875 27.875 -1.421875 \r\nQ 17.96875 -1.421875 11.734375 6.484375 \r\nQ 5.515625 14.40625 5.515625 27.296875 \r\nQ 5.515625 40.1875 11.734375 48.09375 \r\nQ 17.96875 56 27.875 56 \r\nQ 33.9375 56 38.25 53.625 \r\nQ 42.578125 51.265625 45.40625 46.390625 \r\nz\r\nM 14.796875 27.296875 \r\nQ 14.796875 17.390625 18.875 11.75 \r\nQ 22.953125 6.109375 30.078125 6.109375 \r\nQ 37.203125 6.109375 41.296875 11.75 \r\nQ 45.40625 17.390625 45.40625 27.296875 \r\nQ 45.40625 37.203125 41.296875 42.84375 \r\nQ 37.203125 48.484375 30.078125 48.484375 \r\nQ 22.953125 48.484375 18.875 42.84375 \r\nQ 14.796875 37.203125 14.796875 27.296875 \r\nz\r\n\" id=\"DejaVuSans-100\"/>\r\n     <path d=\"M 8.5 21.578125 \r\nL 8.5 54.6875 \r\nL 17.484375 54.6875 \r\nL 17.484375 21.921875 \r\nQ 17.484375 14.15625 20.5 10.265625 \r\nQ 23.53125 6.390625 29.59375 6.390625 \r\nQ 36.859375 6.390625 41.078125 11.03125 \r\nQ 45.3125 15.671875 45.3125 23.6875 \r\nL 45.3125 54.6875 \r\nL 54.296875 54.6875 \r\nL 54.296875 0 \r\nL 45.3125 0 \r\nL 45.3125 8.40625 \r\nQ 42.046875 3.421875 37.71875 1 \r\nQ 33.40625 -1.421875 27.6875 -1.421875 \r\nQ 18.265625 -1.421875 13.375 4.4375 \r\nQ 8.5 10.296875 8.5 21.578125 \r\nz\r\nM 31.109375 56 \r\nz\r\n\" id=\"DejaVuSans-117\"/>\r\n     <path d=\"M 34.28125 27.484375 \r\nQ 23.390625 27.484375 19.1875 25 \r\nQ 14.984375 22.515625 14.984375 16.5 \r\nQ 14.984375 11.71875 18.140625 8.90625 \r\nQ 21.296875 6.109375 26.703125 6.109375 \r\nQ 34.1875 6.109375 38.703125 11.40625 \r\nQ 43.21875 16.703125 43.21875 25.484375 \r\nL 43.21875 27.484375 \r\nz\r\nM 52.203125 31.203125 \r\nL 52.203125 0 \r\nL 43.21875 0 \r\nL 43.21875 8.296875 \r\nQ 40.140625 3.328125 35.546875 0.953125 \r\nQ 30.953125 -1.421875 24.3125 -1.421875 \r\nQ 15.921875 -1.421875 10.953125 3.296875 \r\nQ 6 8.015625 6 15.921875 \r\nQ 6 25.140625 12.171875 29.828125 \r\nQ 18.359375 34.515625 30.609375 34.515625 \r\nL 43.21875 34.515625 \r\nL 43.21875 35.40625 \r\nQ 43.21875 41.609375 39.140625 45 \r\nQ 35.0625 48.390625 27.6875 48.390625 \r\nQ 23 48.390625 18.546875 47.265625 \r\nQ 14.109375 46.140625 10.015625 43.890625 \r\nL 10.015625 52.203125 \r\nQ 14.9375 54.109375 19.578125 55.046875 \r\nQ 24.21875 56 28.609375 56 \r\nQ 40.484375 56 46.34375 49.84375 \r\nQ 52.203125 43.703125 52.203125 31.203125 \r\nz\r\n\" id=\"DejaVuSans-97\"/>\r\n     <path d=\"M 9.421875 75.984375 \r\nL 18.40625 75.984375 \r\nL 18.40625 0 \r\nL 9.421875 0 \r\nz\r\n\" id=\"DejaVuSans-108\"/>\r\n     <path id=\"DejaVuSans-32\"/>\r\n     <path d=\"M 19.671875 64.796875 \r\nL 19.671875 37.40625 \r\nL 32.078125 37.40625 \r\nQ 38.96875 37.40625 42.71875 40.96875 \r\nQ 46.484375 44.53125 46.484375 51.125 \r\nQ 46.484375 57.671875 42.71875 61.234375 \r\nQ 38.96875 64.796875 32.078125 64.796875 \r\nz\r\nM 9.8125 72.90625 \r\nL 32.078125 72.90625 \r\nQ 44.34375 72.90625 50.609375 67.359375 \r\nQ 56.890625 61.8125 56.890625 51.125 \r\nQ 56.890625 40.328125 50.609375 34.8125 \r\nQ 44.34375 29.296875 32.078125 29.296875 \r\nL 19.671875 29.296875 \r\nL 19.671875 0 \r\nL 9.8125 0 \r\nz\r\n\" id=\"DejaVuSans-80\"/>\r\n     <path d=\"M 30.609375 48.390625 \r\nQ 23.390625 48.390625 19.1875 42.75 \r\nQ 14.984375 37.109375 14.984375 27.296875 \r\nQ 14.984375 17.484375 19.15625 11.84375 \r\nQ 23.34375 6.203125 30.609375 6.203125 \r\nQ 37.796875 6.203125 41.984375 11.859375 \r\nQ 46.1875 17.53125 46.1875 27.296875 \r\nQ 46.1875 37.015625 41.984375 42.703125 \r\nQ 37.796875 48.390625 30.609375 48.390625 \r\nz\r\nM 30.609375 56 \r\nQ 42.328125 56 49.015625 48.375 \r\nQ 55.71875 40.765625 55.71875 27.296875 \r\nQ 55.71875 13.875 49.015625 6.21875 \r\nQ 42.328125 -1.421875 30.609375 -1.421875 \r\nQ 18.84375 -1.421875 12.171875 6.21875 \r\nQ 5.515625 13.875 5.515625 27.296875 \r\nQ 5.515625 40.765625 12.171875 48.375 \r\nQ 18.84375 56 30.609375 56 \r\nz\r\n\" id=\"DejaVuSans-111\"/>\r\n     <path d=\"M 18.3125 70.21875 \r\nL 18.3125 54.6875 \r\nL 36.8125 54.6875 \r\nL 36.8125 47.703125 \r\nL 18.3125 47.703125 \r\nL 18.3125 18.015625 \r\nQ 18.3125 11.328125 20.140625 9.421875 \r\nQ 21.96875 7.515625 27.59375 7.515625 \r\nL 36.8125 7.515625 \r\nL 36.8125 0 \r\nL 27.59375 0 \r\nQ 17.1875 0 13.234375 3.875 \r\nQ 9.28125 7.765625 9.28125 18.015625 \r\nL 9.28125 47.703125 \r\nL 2.6875 47.703125 \r\nL 2.6875 54.6875 \r\nL 9.28125 54.6875 \r\nL 9.28125 70.21875 \r\nz\r\n\" id=\"DejaVuSans-116\"/>\r\n    </defs>\r\n    <g transform=\"translate(164.150937 16.318125)scale(0.12 -0.12)\">\r\n     <use xlink:href=\"#DejaVuSans-82\"/>\r\n     <use x=\"64.982422\" xlink:href=\"#DejaVuSans-101\"/>\r\n     <use x=\"126.505859\" xlink:href=\"#DejaVuSans-115\"/>\r\n     <use x=\"178.605469\" xlink:href=\"#DejaVuSans-105\"/>\r\n     <use x=\"206.388672\" xlink:href=\"#DejaVuSans-100\"/>\r\n     <use x=\"269.865234\" xlink:href=\"#DejaVuSans-117\"/>\r\n     <use x=\"333.244141\" xlink:href=\"#DejaVuSans-97\"/>\r\n     <use x=\"394.523438\" xlink:href=\"#DejaVuSans-108\"/>\r\n     <use x=\"422.306641\" xlink:href=\"#DejaVuSans-32\"/>\r\n     <use x=\"454.09375\" xlink:href=\"#DejaVuSans-80\"/>\r\n     <use x=\"514.396484\" xlink:href=\"#DejaVuSans-108\"/>\r\n     <use x=\"542.179688\" xlink:href=\"#DejaVuSans-111\"/>\r\n     <use x=\"603.361328\" xlink:href=\"#DejaVuSans-116\"/>\r\n    </g>\r\n   </g>\r\n   <g id=\"legend_1\">\r\n    <g id=\"patch_7\">\r\n     <path d=\"M 264.598437 59.674375 \r\nL 363.104688 59.674375 \r\nQ 365.104688 59.674375 365.104688 57.674375 \r\nL 365.104688 29.318125 \r\nQ 365.104688 27.318125 363.104688 27.318125 \r\nL 264.598437 27.318125 \r\nQ 262.598437 27.318125 262.598437 29.318125 \r\nL 262.598437 57.674375 \r\nQ 262.598437 59.674375 264.598437 59.674375 \r\nz\r\n\" style=\"fill:#ffffff;opacity:0.8;stroke:#cccccc;stroke-linejoin:miter;\"/>\r\n    </g>\r\n    <g id=\"PathCollection_3\">\r\n     <g>\r\n      <use style=\"fill:#0000ff;stroke:#0000ff;\" x=\"276.598437\" xlink:href=\"#mfc15727adb\" y=\"36.291562\"/>\r\n     </g>\r\n    </g>\r\n    <g id=\"text_14\">\r\n     <!-- Training Data -->\r\n     <defs>\r\n      <path d=\"M -0.296875 72.90625 \r\nL 61.375 72.90625 \r\nL 61.375 64.59375 \r\nL 35.5 64.59375 \r\nL 35.5 0 \r\nL 25.59375 0 \r\nL 25.59375 64.59375 \r\nL -0.296875 64.59375 \r\nz\r\n\" id=\"DejaVuSans-84\"/>\r\n      <path d=\"M 41.109375 46.296875 \r\nQ 39.59375 47.171875 37.8125 47.578125 \r\nQ 36.03125 48 33.890625 48 \r\nQ 26.265625 48 22.1875 43.046875 \r\nQ 18.109375 38.09375 18.109375 28.8125 \r\nL 18.109375 0 \r\nL 9.078125 0 \r\nL 9.078125 54.6875 \r\nL 18.109375 54.6875 \r\nL 18.109375 46.1875 \r\nQ 20.953125 51.171875 25.484375 53.578125 \r\nQ 30.03125 56 36.53125 56 \r\nQ 37.453125 56 38.578125 55.875 \r\nQ 39.703125 55.765625 41.0625 55.515625 \r\nz\r\n\" id=\"DejaVuSans-114\"/>\r\n      <path d=\"M 54.890625 33.015625 \r\nL 54.890625 0 \r\nL 45.90625 0 \r\nL 45.90625 32.71875 \r\nQ 45.90625 40.484375 42.875 44.328125 \r\nQ 39.84375 48.1875 33.796875 48.1875 \r\nQ 26.515625 48.1875 22.3125 43.546875 \r\nQ 18.109375 38.921875 18.109375 30.90625 \r\nL 18.109375 0 \r\nL 9.078125 0 \r\nL 9.078125 54.6875 \r\nL 18.109375 54.6875 \r\nL 18.109375 46.1875 \r\nQ 21.34375 51.125 25.703125 53.5625 \r\nQ 30.078125 56 35.796875 56 \r\nQ 45.21875 56 50.046875 50.171875 \r\nQ 54.890625 44.34375 54.890625 33.015625 \r\nz\r\n\" id=\"DejaVuSans-110\"/>\r\n      <path d=\"M 45.40625 27.984375 \r\nQ 45.40625 37.75 41.375 43.109375 \r\nQ 37.359375 48.484375 30.078125 48.484375 \r\nQ 22.859375 48.484375 18.828125 43.109375 \r\nQ 14.796875 37.75 14.796875 27.984375 \r\nQ 14.796875 18.265625 18.828125 12.890625 \r\nQ 22.859375 7.515625 30.078125 7.515625 \r\nQ 37.359375 7.515625 41.375 12.890625 \r\nQ 45.40625 18.265625 45.40625 27.984375 \r\nz\r\nM 54.390625 6.78125 \r\nQ 54.390625 -7.171875 48.1875 -13.984375 \r\nQ 42 -20.796875 29.203125 -20.796875 \r\nQ 24.46875 -20.796875 20.265625 -20.09375 \r\nQ 16.0625 -19.390625 12.109375 -17.921875 \r\nL 12.109375 -9.1875 \r\nQ 16.0625 -11.328125 19.921875 -12.34375 \r\nQ 23.78125 -13.375 27.78125 -13.375 \r\nQ 36.625 -13.375 41.015625 -8.765625 \r\nQ 45.40625 -4.15625 45.40625 5.171875 \r\nL 45.40625 9.625 \r\nQ 42.625 4.78125 38.28125 2.390625 \r\nQ 33.9375 0 27.875 0 \r\nQ 17.828125 0 11.671875 7.65625 \r\nQ 5.515625 15.328125 5.515625 27.984375 \r\nQ 5.515625 40.671875 11.671875 48.328125 \r\nQ 17.828125 56 27.875 56 \r\nQ 33.9375 56 38.28125 53.609375 \r\nQ 42.625 51.21875 45.40625 46.390625 \r\nL 45.40625 54.6875 \r\nL 54.390625 54.6875 \r\nz\r\n\" id=\"DejaVuSans-103\"/>\r\n      <path d=\"M 19.671875 64.796875 \r\nL 19.671875 8.109375 \r\nL 31.59375 8.109375 \r\nQ 46.6875 8.109375 53.6875 14.9375 \r\nQ 60.6875 21.78125 60.6875 36.53125 \r\nQ 60.6875 51.171875 53.6875 57.984375 \r\nQ 46.6875 64.796875 31.59375 64.796875 \r\nz\r\nM 9.8125 72.90625 \r\nL 30.078125 72.90625 \r\nQ 51.265625 72.90625 61.171875 64.09375 \r\nQ 71.09375 55.28125 71.09375 36.53125 \r\nQ 71.09375 17.671875 61.125 8.828125 \r\nQ 51.171875 0 30.078125 0 \r\nL 9.8125 0 \r\nz\r\n\" id=\"DejaVuSans-68\"/>\r\n     </defs>\r\n     <g transform=\"translate(294.598437 38.916562)scale(0.1 -0.1)\">\r\n      <use xlink:href=\"#DejaVuSans-84\"/>\r\n      <use x=\"46.333984\" xlink:href=\"#DejaVuSans-114\"/>\r\n      <use x=\"87.447266\" xlink:href=\"#DejaVuSans-97\"/>\r\n      <use x=\"148.726562\" xlink:href=\"#DejaVuSans-105\"/>\r\n      <use x=\"176.509766\" xlink:href=\"#DejaVuSans-110\"/>\r\n      <use x=\"239.888672\" xlink:href=\"#DejaVuSans-105\"/>\r\n      <use x=\"267.671875\" xlink:href=\"#DejaVuSans-110\"/>\r\n      <use x=\"331.050781\" xlink:href=\"#DejaVuSans-103\"/>\r\n      <use x=\"394.527344\" xlink:href=\"#DejaVuSans-32\"/>\r\n      <use x=\"426.314453\" xlink:href=\"#DejaVuSans-68\"/>\r\n      <use x=\"503.316406\" xlink:href=\"#DejaVuSans-97\"/>\r\n      <use x=\"564.595703\" xlink:href=\"#DejaVuSans-116\"/>\r\n      <use x=\"603.804688\" xlink:href=\"#DejaVuSans-97\"/>\r\n     </g>\r\n    </g>\r\n    <g id=\"PathCollection_4\">\r\n     <g>\r\n      <use style=\"fill:#ffa500;stroke:#ffa500;\" x=\"276.598437\" xlink:href=\"#m6e9de48e2d\" y=\"50.969687\"/>\r\n     </g>\r\n    </g>\r\n    <g id=\"text_15\">\r\n     <!-- Testing Data -->\r\n     <g transform=\"translate(294.598437 53.594687)scale(0.1 -0.1)\">\r\n      <use xlink:href=\"#DejaVuSans-84\"/>\r\n      <use x=\"44.083984\" xlink:href=\"#DejaVuSans-101\"/>\r\n      <use x=\"105.607422\" xlink:href=\"#DejaVuSans-115\"/>\r\n      <use x=\"157.707031\" xlink:href=\"#DejaVuSans-116\"/>\r\n      <use x=\"196.916016\" xlink:href=\"#DejaVuSans-105\"/>\r\n      <use x=\"224.699219\" xlink:href=\"#DejaVuSans-110\"/>\r\n      <use x=\"288.078125\" xlink:href=\"#DejaVuSans-103\"/>\r\n      <use x=\"351.554688\" xlink:href=\"#DejaVuSans-32\"/>\r\n      <use x=\"383.341797\" xlink:href=\"#DejaVuSans-68\"/>\r\n      <use x=\"460.34375\" xlink:href=\"#DejaVuSans-97\"/>\r\n      <use x=\"521.623047\" xlink:href=\"#DejaVuSans-116\"/>\r\n      <use x=\"560.832031\" xlink:href=\"#DejaVuSans-97\"/>\r\n     </g>\r\n    </g>\r\n   </g>\r\n  </g>\r\n </g>\r\n <defs>\r\n  <clipPath id=\"p8c03d53dc7\">\r\n   <rect height=\"217.44\" width=\"334.8\" x=\"35.304688\" y=\"22.318125\"/>\r\n  </clipPath>\r\n </defs>\r\n</svg>\r\n",
      "image/png": "[encoded data removed]"
     },
     "metadata": {
      "needs_background": "light"
     }
    }
   ],
   "source": [
    "# Plot the Residuals for the Training and Testing data\n",
    "\n",
    "### BEGIN SOLUTION\n",
    "plt.scatter(model.predict(X_train), model.predict(X_train) - y_train, c=\"blue\", label=\"Training Data\")\n",
    "plt.scatter(model.predict(X_test), model.predict(X_test) - y_test, c=\"orange\", label=\"Testing Data\")\n",
    "plt.legend()\n",
    "plt.hlines(y=0, xmin=y.min(), xmax=y.max())\n",
    "plt.title(\"Residual Plot\")\n",
    "### END SOLUTION"
   ]
  },
  {
   "cell_type": "code",
   "execution_count": 8,
   "metadata": {},
   "outputs": [
    {
     "output_type": "stream",
     "name": "stdout",
     "text": [
      "Weight coefficients:  [[-0.79181857]\n [-0.34574825]\n [ 0.39483572]\n [ 0.8411297 ]]\ny-axis intercept:  [ 1619.23600456   706.46504775  -767.93163875 -1649.17892129]\n"
     ]
    }
   ],
   "source": [
    "print('Weight coefficients: ', model.coef_)\n",
    "print('y-axis intercept: ', model.intercept_)\n"
   ]
  },
  {
   "cell_type": "code",
   "execution_count": 9,
   "metadata": {},
   "outputs": [
    {
     "output_type": "stream",
     "name": "stdout",
     "text": [
      "Min X Value: [[1974]]\nMax X Value: [[2017]]\n"
     ]
    }
   ],
   "source": [
    "x_min = np.array([[X.min()]])\n",
    "x_max = np.array([[X.max()]])\n",
    "print(f\"Min X Value: {x_min}\")\n",
    "print(f\"Max X Value: {x_max}\")"
   ]
  },
  {
   "cell_type": "code",
   "execution_count": 10,
   "metadata": {},
   "outputs": [
    {
     "output_type": "execute_result",
     "data": {
      "text/plain": [
       "array([[21.34613406,  8.74507951, 28.84684977, 48.22081255],\n",
       "       [20.55431549,  8.39933126, 29.24168549, 49.06194225],\n",
       "       [19.76249692,  8.05358301, 29.63652121, 49.90307195],\n",
       "       [18.97067836,  7.70783476, 30.03135694, 50.74420165],\n",
       "       [18.17885979,  7.36208651, 30.42619266, 51.58533135],\n",
       "       [17.38704122,  7.01633826, 30.82102838, 52.42646105],\n",
       "       [16.59522265,  6.67059001, 31.21586411, 53.26759075],\n",
       "       [15.80340408,  6.32484176, 31.61069983, 54.10872045],\n",
       "       [15.01158552,  5.97909351, 32.00553555, 54.94985015],\n",
       "       [14.21976695,  5.63334526, 32.40037127, 55.79097985]])"
      ]
     },
     "metadata": {},
     "execution_count": 10
    }
   ],
   "source": [
    "# Calculate the y_min and y_max using model.predict and x_min and x_max\n",
    "\n",
    "### BEGIN SOLUTION\n",
    "y_min = model.predict(x_min)\n",
    "y_max = model.predict([[2018],[2019],[2020],[2021],[2022],[2023],[2024],[2025],[2026],[2027]])\n",
    "### END SOLUTION\n",
    "y_max"
   ]
  },
  {
   "cell_type": "code",
   "execution_count": 11,
   "metadata": {},
   "outputs": [
    {
     "output_type": "execute_result",
     "data": {
      "text/plain": [
       "           0         1          2          3\n",
       "0  21.346134  8.745080  28.846850  48.220813\n",
       "1  20.554315  8.399331  29.241685  49.061942\n",
       "2  19.762497  8.053583  29.636521  49.903072\n",
       "3  18.970678  7.707835  30.031357  50.744202\n",
       "4  18.178860  7.362087  30.426193  51.585331"
      ],
      "text/html": "<div>\n<style scoped>\n    .dataframe tbody tr th:only-of-type {\n        vertical-align: middle;\n    }\n\n    .dataframe tbody tr th {\n        vertical-align: top;\n    }\n\n    .dataframe thead th {\n        text-align: right;\n    }\n</style>\n<table border=\"1\" class=\"dataframe\">\n  <thead>\n    <tr style=\"text-align: right;\">\n      <th></th>\n      <th>0</th>\n      <th>1</th>\n      <th>2</th>\n      <th>3</th>\n    </tr>\n  </thead>\n  <tbody>\n    <tr>\n      <th>0</th>\n      <td>21.346134</td>\n      <td>8.745080</td>\n      <td>28.846850</td>\n      <td>48.220813</td>\n    </tr>\n    <tr>\n      <th>1</th>\n      <td>20.554315</td>\n      <td>8.399331</td>\n      <td>29.241685</td>\n      <td>49.061942</td>\n    </tr>\n    <tr>\n      <th>2</th>\n      <td>19.762497</td>\n      <td>8.053583</td>\n      <td>29.636521</td>\n      <td>49.903072</td>\n    </tr>\n    <tr>\n      <th>3</th>\n      <td>18.970678</td>\n      <td>7.707835</td>\n      <td>30.031357</td>\n      <td>50.744202</td>\n    </tr>\n    <tr>\n      <th>4</th>\n      <td>18.178860</td>\n      <td>7.362087</td>\n      <td>30.426193</td>\n      <td>51.585331</td>\n    </tr>\n  </tbody>\n</table>\n</div>"
     },
     "metadata": {},
     "execution_count": 11
    }
   ],
   "source": [
    "# transform the predicted array to a dataframe\n",
    "predicted_df = pd.DataFrame(y_max)\n",
    "predicted_df.head()"
   ]
  },
  {
   "cell_type": "code",
   "execution_count": 12,
   "metadata": {},
   "outputs": [
    {
     "output_type": "execute_result",
     "data": {
      "text/plain": [
       "           0         1          2          3  year\n",
       "0  21.346134  8.745080  28.846850  48.220813  2018\n",
       "1  20.554315  8.399331  29.241685  49.061942  2019\n",
       "2  19.762497  8.053583  29.636521  49.903072  2020\n",
       "3  18.970678  7.707835  30.031357  50.744202  2021\n",
       "4  18.178860  7.362087  30.426193  51.585331  2022\n",
       "5  17.387041  7.016338  30.821028  52.426461  2023\n",
       "6  16.595223  6.670590  31.215864  53.267591  2024\n",
       "7  15.803404  6.324842  31.610700  54.108720  2025\n",
       "8  15.011586  5.979094  32.005536  54.949850  2026\n",
       "9  14.219767  5.633345  32.400371  55.790980  2027"
      ],
      "text/html": "<div>\n<style scoped>\n    .dataframe tbody tr th:only-of-type {\n        vertical-align: middle;\n    }\n\n    .dataframe tbody tr th {\n        vertical-align: top;\n    }\n\n    .dataframe thead th {\n        text-align: right;\n    }\n</style>\n<table border=\"1\" class=\"dataframe\">\n  <thead>\n    <tr style=\"text-align: right;\">\n      <th></th>\n      <th>0</th>\n      <th>1</th>\n      <th>2</th>\n      <th>3</th>\n      <th>year</th>\n    </tr>\n  </thead>\n  <tbody>\n    <tr>\n      <th>0</th>\n      <td>21.346134</td>\n      <td>8.745080</td>\n      <td>28.846850</td>\n      <td>48.220813</td>\n      <td>2018</td>\n    </tr>\n    <tr>\n      <th>1</th>\n      <td>20.554315</td>\n      <td>8.399331</td>\n      <td>29.241685</td>\n      <td>49.061942</td>\n      <td>2019</td>\n    </tr>\n    <tr>\n      <th>2</th>\n      <td>19.762497</td>\n      <td>8.053583</td>\n      <td>29.636521</td>\n      <td>49.903072</td>\n      <td>2020</td>\n    </tr>\n    <tr>\n      <th>3</th>\n      <td>18.970678</td>\n      <td>7.707835</td>\n      <td>30.031357</td>\n      <td>50.744202</td>\n      <td>2021</td>\n    </tr>\n    <tr>\n      <th>4</th>\n      <td>18.178860</td>\n      <td>7.362087</td>\n      <td>30.426193</td>\n      <td>51.585331</td>\n      <td>2022</td>\n    </tr>\n    <tr>\n      <th>5</th>\n      <td>17.387041</td>\n      <td>7.016338</td>\n      <td>30.821028</td>\n      <td>52.426461</td>\n      <td>2023</td>\n    </tr>\n    <tr>\n      <th>6</th>\n      <td>16.595223</td>\n      <td>6.670590</td>\n      <td>31.215864</td>\n      <td>53.267591</td>\n      <td>2024</td>\n    </tr>\n    <tr>\n      <th>7</th>\n      <td>15.803404</td>\n      <td>6.324842</td>\n      <td>31.610700</td>\n      <td>54.108720</td>\n      <td>2025</td>\n    </tr>\n    <tr>\n      <th>8</th>\n      <td>15.011586</td>\n      <td>5.979094</td>\n      <td>32.005536</td>\n      <td>54.949850</td>\n      <td>2026</td>\n    </tr>\n    <tr>\n      <th>9</th>\n      <td>14.219767</td>\n      <td>5.633345</td>\n      <td>32.400371</td>\n      <td>55.790980</td>\n      <td>2027</td>\n    </tr>\n  </tbody>\n</table>\n</div>"
     },
     "metadata": {},
     "execution_count": 12
    }
   ],
   "source": [
    "# include a column with years\n",
    "predicted_df ['year'] = [2018,2019,2020,2021,2022,2023,2024,2025,2026,2027]\n",
    "predicted_df"
   ]
  },
  {
   "cell_type": "code",
   "execution_count": 13,
   "metadata": {},
   "outputs": [
    {
     "output_type": "execute_result",
     "data": {
      "text/plain": [
       "   year          0         1          2          3\n",
       "0  2018  21.346134  8.745080  28.846850  48.220813\n",
       "1  2019  20.554315  8.399331  29.241685  49.061942\n",
       "2  2020  19.762497  8.053583  29.636521  49.903072\n",
       "3  2021  18.970678  7.707835  30.031357  50.744202\n",
       "4  2022  18.178860  7.362087  30.426193  51.585331\n",
       "5  2023  17.387041  7.016338  30.821028  52.426461\n",
       "6  2024  16.595223  6.670590  31.215864  53.267591\n",
       "7  2025  15.803404  6.324842  31.610700  54.108720\n",
       "8  2026  15.011586  5.979094  32.005536  54.949850\n",
       "9  2027  14.219767  5.633345  32.400371  55.790980"
      ],
      "text/html": "<div>\n<style scoped>\n    .dataframe tbody tr th:only-of-type {\n        vertical-align: middle;\n    }\n\n    .dataframe tbody tr th {\n        vertical-align: top;\n    }\n\n    .dataframe thead th {\n        text-align: right;\n    }\n</style>\n<table border=\"1\" class=\"dataframe\">\n  <thead>\n    <tr style=\"text-align: right;\">\n      <th></th>\n      <th>year</th>\n      <th>0</th>\n      <th>1</th>\n      <th>2</th>\n      <th>3</th>\n    </tr>\n  </thead>\n  <tbody>\n    <tr>\n      <th>0</th>\n      <td>2018</td>\n      <td>21.346134</td>\n      <td>8.745080</td>\n      <td>28.846850</td>\n      <td>48.220813</td>\n    </tr>\n    <tr>\n      <th>1</th>\n      <td>2019</td>\n      <td>20.554315</td>\n      <td>8.399331</td>\n      <td>29.241685</td>\n      <td>49.061942</td>\n    </tr>\n    <tr>\n      <th>2</th>\n      <td>2020</td>\n      <td>19.762497</td>\n      <td>8.053583</td>\n      <td>29.636521</td>\n      <td>49.903072</td>\n    </tr>\n    <tr>\n      <th>3</th>\n      <td>2021</td>\n      <td>18.970678</td>\n      <td>7.707835</td>\n      <td>30.031357</td>\n      <td>50.744202</td>\n    </tr>\n    <tr>\n      <th>4</th>\n      <td>2022</td>\n      <td>18.178860</td>\n      <td>7.362087</td>\n      <td>30.426193</td>\n      <td>51.585331</td>\n    </tr>\n    <tr>\n      <th>5</th>\n      <td>2023</td>\n      <td>17.387041</td>\n      <td>7.016338</td>\n      <td>30.821028</td>\n      <td>52.426461</td>\n    </tr>\n    <tr>\n      <th>6</th>\n      <td>2024</td>\n      <td>16.595223</td>\n      <td>6.670590</td>\n      <td>31.215864</td>\n      <td>53.267591</td>\n    </tr>\n    <tr>\n      <th>7</th>\n      <td>2025</td>\n      <td>15.803404</td>\n      <td>6.324842</td>\n      <td>31.610700</td>\n      <td>54.108720</td>\n    </tr>\n    <tr>\n      <th>8</th>\n      <td>2026</td>\n      <td>15.011586</td>\n      <td>5.979094</td>\n      <td>32.005536</td>\n      <td>54.949850</td>\n    </tr>\n    <tr>\n      <th>9</th>\n      <td>2027</td>\n      <td>14.219767</td>\n      <td>5.633345</td>\n      <td>32.400371</td>\n      <td>55.790980</td>\n    </tr>\n  </tbody>\n</table>\n</div>"
     },
     "metadata": {},
     "execution_count": 13
    }
   ],
   "source": [
    "# move year column to be the first row of the dataframe\n",
    "first_col = predicted_df.pop(\"year\")\n",
    "predicted_df.insert(0, \"year\", first_col)\n",
    "predicted_df"
   ]
  },
  {
   "cell_type": "code",
   "execution_count": 14,
   "metadata": {},
   "outputs": [
    {
     "output_type": "execute_result",
     "data": {
      "text/plain": [
       "   year       beef      lamb       pork    chicken\n",
       "0  2018  21.346134  8.745080  28.846850  48.220813\n",
       "1  2019  20.554315  8.399331  29.241685  49.061942\n",
       "2  2020  19.762497  8.053583  29.636521  49.903072\n",
       "3  2021  18.970678  7.707835  30.031357  50.744202\n",
       "4  2022  18.178860  7.362087  30.426193  51.585331\n",
       "5  2023  17.387041  7.016338  30.821028  52.426461\n",
       "6  2024  16.595223  6.670590  31.215864  53.267591\n",
       "7  2025  15.803404  6.324842  31.610700  54.108720\n",
       "8  2026  15.011586  5.979094  32.005536  54.949850\n",
       "9  2027  14.219767  5.633345  32.400371  55.790980"
      ],
      "text/html": "<div>\n<style scoped>\n    .dataframe tbody tr th:only-of-type {\n        vertical-align: middle;\n    }\n\n    .dataframe tbody tr th {\n        vertical-align: top;\n    }\n\n    .dataframe thead th {\n        text-align: right;\n    }\n</style>\n<table border=\"1\" class=\"dataframe\">\n  <thead>\n    <tr style=\"text-align: right;\">\n      <th></th>\n      <th>year</th>\n      <th>beef</th>\n      <th>lamb</th>\n      <th>pork</th>\n      <th>chicken</th>\n    </tr>\n  </thead>\n  <tbody>\n    <tr>\n      <th>0</th>\n      <td>2018</td>\n      <td>21.346134</td>\n      <td>8.745080</td>\n      <td>28.846850</td>\n      <td>48.220813</td>\n    </tr>\n    <tr>\n      <th>1</th>\n      <td>2019</td>\n      <td>20.554315</td>\n      <td>8.399331</td>\n      <td>29.241685</td>\n      <td>49.061942</td>\n    </tr>\n    <tr>\n      <th>2</th>\n      <td>2020</td>\n      <td>19.762497</td>\n      <td>8.053583</td>\n      <td>29.636521</td>\n      <td>49.903072</td>\n    </tr>\n    <tr>\n      <th>3</th>\n      <td>2021</td>\n      <td>18.970678</td>\n      <td>7.707835</td>\n      <td>30.031357</td>\n      <td>50.744202</td>\n    </tr>\n    <tr>\n      <th>4</th>\n      <td>2022</td>\n      <td>18.178860</td>\n      <td>7.362087</td>\n      <td>30.426193</td>\n      <td>51.585331</td>\n    </tr>\n    <tr>\n      <th>5</th>\n      <td>2023</td>\n      <td>17.387041</td>\n      <td>7.016338</td>\n      <td>30.821028</td>\n      <td>52.426461</td>\n    </tr>\n    <tr>\n      <th>6</th>\n      <td>2024</td>\n      <td>16.595223</td>\n      <td>6.670590</td>\n      <td>31.215864</td>\n      <td>53.267591</td>\n    </tr>\n    <tr>\n      <th>7</th>\n      <td>2025</td>\n      <td>15.803404</td>\n      <td>6.324842</td>\n      <td>31.610700</td>\n      <td>54.108720</td>\n    </tr>\n    <tr>\n      <th>8</th>\n      <td>2026</td>\n      <td>15.011586</td>\n      <td>5.979094</td>\n      <td>32.005536</td>\n      <td>54.949850</td>\n    </tr>\n    <tr>\n      <th>9</th>\n      <td>2027</td>\n      <td>14.219767</td>\n      <td>5.633345</td>\n      <td>32.400371</td>\n      <td>55.790980</td>\n    </tr>\n  </tbody>\n</table>\n</div>"
     },
     "metadata": {},
     "execution_count": 14
    }
   ],
   "source": [
    "# Rename the column headers\n",
    "predicted_df = predicted_df.rename(columns={0: \"beef\",\n",
    "                                                          1: \"lamb\",\n",
    "                                                          2:\"pork\",\n",
    "                                                          3: \"chicken\"})\n",
    "predicted_df"
   ]
  },
  {
   "cell_type": "code",
   "execution_count": 15,
   "metadata": {},
   "outputs": [],
   "source": [
    "# save predcited data to resources folder as a CSV\n",
    "predicted_df.to_csv('Resources/predicted_meat_consumption.csv',index = False, header=True)"
   ]
  },
  {
   "cell_type": "code",
   "execution_count": null,
   "metadata": {},
   "outputs": [],
   "source": []
  }
 ],
 "metadata": {
  "celltoolbar": "Create Assignment",
  "kernelspec": {
   "name": "python383jvsc74a57bd01967d762c769939a2291d44347683792873ab5f7dbb8a8895d3a32369559e71d",
   "display_name": "Python 3.8.3 64-bit ('base': conda)"
  },
  "language_info": {
   "codemirror_mode": {
    "name": "ipython",
    "version": 3
   },
   "file_extension": ".py",
   "mimetype": "text/x-python",
   "name": "python",
   "nbconvert_exporter": "python",
   "pygments_lexer": "ipython3",
   "version": "3.8.3"
  },
  "varInspector": {
   "cols": {
    "lenName": 16,
    "lenType": 16,
    "lenVar": 40
   },
   "kernels_config": {
    "python": {
     "delete_cmd_postfix": "",
     "delete_cmd_prefix": "del ",
     "library": "var_list.py",
     "varRefreshCmd": "print(var_dic_list())"
    },
    "r": {
     "delete_cmd_postfix": ") ",
     "delete_cmd_prefix": "rm(",
     "library": "var_list.r",
     "varRefreshCmd": "cat(var_dic_list()) "
    }
   },
   "types_to_exclude": [
    "module",
    "function",
    "builtin_function_or_method",
    "instance",
    "_Feature"
   ],
   "window_display": false
  }
 },
 "nbformat": 4,
 "nbformat_minor": 2
}