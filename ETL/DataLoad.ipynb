{
 "cells": [
  {
   "cell_type": "markdown",
   "metadata": {},
   "source": [
    "# Data Load into postgreSQL database"
   ]
  },
  {
   "cell_type": "code",
   "execution_count": 1,
   "metadata": {},
   "outputs": [],
   "source": [
    "# Import Dependencies\n",
    "import pandas as pd\n",
    "from sqlalchemy import create_engine"
   ]
  },
  {
   "cell_type": "code",
   "execution_count": 2,
   "metadata": {},
   "outputs": [
    {
     "output_type": "execute_result",
     "data": {
      "text/plain": [
       "   Year  Beef_Veal  Lamb_Mutton  Pig  Chicken\n",
       "0  1974         63           25   10       12\n",
       "1  1975         67           22   10       13\n",
       "2  1976         69           18   10       14\n",
       "3  1977         67           18   11       15\n",
       "4  1978         57           18   10       17"
      ],
      "text/html": "<div>\n<style scoped>\n    .dataframe tbody tr th:only-of-type {\n        vertical-align: middle;\n    }\n\n    .dataframe tbody tr th {\n        vertical-align: top;\n    }\n\n    .dataframe thead th {\n        text-align: right;\n    }\n</style>\n<table border=\"1\" class=\"dataframe\">\n  <thead>\n    <tr style=\"text-align: right;\">\n      <th></th>\n      <th>Year</th>\n      <th>Beef_Veal</th>\n      <th>Lamb_Mutton</th>\n      <th>Pig</th>\n      <th>Chicken</th>\n    </tr>\n  </thead>\n  <tbody>\n    <tr>\n      <th>0</th>\n      <td>1974</td>\n      <td>63</td>\n      <td>25</td>\n      <td>10</td>\n      <td>12</td>\n    </tr>\n    <tr>\n      <th>1</th>\n      <td>1975</td>\n      <td>67</td>\n      <td>22</td>\n      <td>10</td>\n      <td>13</td>\n    </tr>\n    <tr>\n      <th>2</th>\n      <td>1976</td>\n      <td>69</td>\n      <td>18</td>\n      <td>10</td>\n      <td>14</td>\n    </tr>\n    <tr>\n      <th>3</th>\n      <td>1977</td>\n      <td>67</td>\n      <td>18</td>\n      <td>11</td>\n      <td>15</td>\n    </tr>\n    <tr>\n      <th>4</th>\n      <td>1978</td>\n      <td>57</td>\n      <td>18</td>\n      <td>10</td>\n      <td>17</td>\n    </tr>\n  </tbody>\n</table>\n</div>"
     },
     "metadata": {},
     "execution_count": 2
    }
   ],
   "source": [
    "# Read in meat consumption CSV file to be loaded to database\n",
    "csv = \"Resources/meat_consumption.csv\"\n",
    "meat = pd.read_csv(csv)\n",
    "meat.head()"
   ]
  },
  {
   "cell_type": "code",
   "execution_count": 3,
   "metadata": {},
   "outputs": [],
   "source": [
    "# connect to database\n",
    "connection_string = \"postgres:{PASSWORD}@localhost:5432/redmeat_db\"\n",
    "engine = create_engine(f'postgresql://{connection_string}')"
   ]
  },
  {
   "cell_type": "code",
   "execution_count": 4,
   "metadata": {},
   "outputs": [
    {
     "output_type": "execute_result",
     "data": {
      "text/plain": [
       "['combined_meat', 'beef_veal']"
      ]
     },
     "metadata": {},
     "execution_count": 4
    }
   ],
   "source": [
    "# confirm tables\n",
    "engine.table_names()"
   ]
  },
  {
   "cell_type": "markdown",
   "metadata": {},
   "source": [
    " # Load dataframes into database"
   ]
  },
  {
   "cell_type": "code",
   "execution_count": 5,
   "metadata": {},
   "outputs": [],
   "source": [
    "# use pandas to load dataframes to database\n",
    "meat.to_sql(name='meat', con=engine, if_exists='append', index=False)\n"
   ]
  },
  {
   "cell_type": "code",
   "execution_count": 6,
   "metadata": {},
   "outputs": [
    {
     "output_type": "execute_result",
     "data": {
      "text/plain": [
       "   Year  Beef_Veal  Lamb_Mutton  Pig  Chicken\n",
       "0  1974         63           25   10       12\n",
       "1  1975         67           22   10       13\n",
       "2  1976         69           18   10       14\n",
       "3  1977         67           18   11       15\n",
       "4  1978         57           18   10       17"
      ],
      "text/html": "<div>\n<style scoped>\n    .dataframe tbody tr th:only-of-type {\n        vertical-align: middle;\n    }\n\n    .dataframe tbody tr th {\n        vertical-align: top;\n    }\n\n    .dataframe thead th {\n        text-align: right;\n    }\n</style>\n<table border=\"1\" class=\"dataframe\">\n  <thead>\n    <tr style=\"text-align: right;\">\n      <th></th>\n      <th>Year</th>\n      <th>Beef_Veal</th>\n      <th>Lamb_Mutton</th>\n      <th>Pig</th>\n      <th>Chicken</th>\n    </tr>\n  </thead>\n  <tbody>\n    <tr>\n      <th>0</th>\n      <td>1974</td>\n      <td>63</td>\n      <td>25</td>\n      <td>10</td>\n      <td>12</td>\n    </tr>\n    <tr>\n      <th>1</th>\n      <td>1975</td>\n      <td>67</td>\n      <td>22</td>\n      <td>10</td>\n      <td>13</td>\n    </tr>\n    <tr>\n      <th>2</th>\n      <td>1976</td>\n      <td>69</td>\n      <td>18</td>\n      <td>10</td>\n      <td>14</td>\n    </tr>\n    <tr>\n      <th>3</th>\n      <td>1977</td>\n      <td>67</td>\n      <td>18</td>\n      <td>11</td>\n      <td>15</td>\n    </tr>\n    <tr>\n      <th>4</th>\n      <td>1978</td>\n      <td>57</td>\n      <td>18</td>\n      <td>10</td>\n      <td>17</td>\n    </tr>\n  </tbody>\n</table>\n</div>"
     },
     "metadata": {},
     "execution_count": 6
    }
   ],
   "source": [
    "# Check that dataframes have loaded successfully\n",
    "pd.read_sql_query('select * from meat', con=engine).head()"
   ]
  },
  {
   "cell_type": "code",
   "execution_count": null,
   "metadata": {},
   "outputs": [],
   "source": []
  }
 ],
 "metadata": {
  "kernelspec": {
   "name": "python383jvsc74a57bd01967d762c769939a2291d44347683792873ab5f7dbb8a8895d3a32369559e71d",
   "display_name": "Python 3.8.3 64-bit ('base': conda)"
  },
  "language_info": {
   "codemirror_mode": {
    "name": "ipython",
    "version": 3
   },
   "file_extension": ".py",
   "mimetype": "text/x-python",
   "name": "python",
   "nbconvert_exporter": "python",
   "pygments_lexer": "ipython3",
   "version": "3.8.3"
  }
 },
 "nbformat": 4,
 "nbformat_minor": 4
}