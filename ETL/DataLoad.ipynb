{
 "cells": [
  {
   "cell_type": "markdown",
   "metadata": {},
   "source": [
    "# Data Load into postgreSQL database"
   ]
  },
  {
   "cell_type": "code",
   "execution_count": 1,
   "metadata": {},
   "outputs": [],
   "source": [
    "# Import Dependencies\n",
    "import pandas as pd\n",
    "from sqlalchemy import create_engine"
   ]
  },
  {
   "cell_type": "code",
   "execution_count": 2,
   "metadata": {},
   "outputs": [
    {
     "output_type": "execute_result",
     "data": {
      "text/plain": [
       "  country  year  accessibility_percentage\n",
       "0     AFG  2017                  67.06462\n",
       "1     ALB  2017                  91.03923\n",
       "2     DZA  2017                  93.55589\n",
       "3     AND  2017                 100.00000\n",
       "4     AGO  2017                  55.84290"
      ],
      "text/html": "<div>\n<style scoped>\n    .dataframe tbody tr th:only-of-type {\n        vertical-align: middle;\n    }\n\n    .dataframe tbody tr th {\n        vertical-align: top;\n    }\n\n    .dataframe thead th {\n        text-align: right;\n    }\n</style>\n<table border=\"1\" class=\"dataframe\">\n  <thead>\n    <tr style=\"text-align: right;\">\n      <th></th>\n      <th>country</th>\n      <th>year</th>\n      <th>accessibility_percentage</th>\n    </tr>\n  </thead>\n  <tbody>\n    <tr>\n      <th>0</th>\n      <td>AFG</td>\n      <td>2017</td>\n      <td>67.06462</td>\n    </tr>\n    <tr>\n      <th>1</th>\n      <td>ALB</td>\n      <td>2017</td>\n      <td>91.03923</td>\n    </tr>\n    <tr>\n      <th>2</th>\n      <td>DZA</td>\n      <td>2017</td>\n      <td>93.55589</td>\n    </tr>\n    <tr>\n      <th>3</th>\n      <td>AND</td>\n      <td>2017</td>\n      <td>100.00000</td>\n    </tr>\n    <tr>\n      <th>4</th>\n      <td>AGO</td>\n      <td>2017</td>\n      <td>55.84290</td>\n    </tr>\n  </tbody>\n</table>\n</div>"
     },
     "metadata": {},
     "execution_count": 2
    }
   ],
   "source": [
    "# Read in water CSV files to be loaded to database\n",
    "water_csv = \"water.csv\"\n",
    "water = pd.read_csv(water_csv)\n",
    "water.head()"
   ]
  },
  {
   "cell_type": "code",
   "execution_count": 3,
   "metadata": {},
   "outputs": [
    {
     "output_type": "execute_result",
     "data": {
      "text/plain": [
       "  country  year gender  mortality_rate\n",
       "0     AFG  2017   BTSX        64.94076\n",
       "1     AGO  2017   BTSX        80.62230\n",
       "2     ALB  2017   BTSX         9.41805\n",
       "3     AND  2017   BTSX         3.21892\n",
       "4     ARE  2017   BTSX         7.69530"
      ],
      "text/html": "<div>\n<style scoped>\n    .dataframe tbody tr th:only-of-type {\n        vertical-align: middle;\n    }\n\n    .dataframe tbody tr th {\n        vertical-align: top;\n    }\n\n    .dataframe thead th {\n        text-align: right;\n    }\n</style>\n<table border=\"1\" class=\"dataframe\">\n  <thead>\n    <tr style=\"text-align: right;\">\n      <th></th>\n      <th>country</th>\n      <th>year</th>\n      <th>gender</th>\n      <th>mortality_rate</th>\n    </tr>\n  </thead>\n  <tbody>\n    <tr>\n      <th>0</th>\n      <td>AFG</td>\n      <td>2017</td>\n      <td>BTSX</td>\n      <td>64.94076</td>\n    </tr>\n    <tr>\n      <th>1</th>\n      <td>AGO</td>\n      <td>2017</td>\n      <td>BTSX</td>\n      <td>80.62230</td>\n    </tr>\n    <tr>\n      <th>2</th>\n      <td>ALB</td>\n      <td>2017</td>\n      <td>BTSX</td>\n      <td>9.41805</td>\n    </tr>\n    <tr>\n      <th>3</th>\n      <td>AND</td>\n      <td>2017</td>\n      <td>BTSX</td>\n      <td>3.21892</td>\n    </tr>\n    <tr>\n      <th>4</th>\n      <td>ARE</td>\n      <td>2017</td>\n      <td>BTSX</td>\n      <td>7.69530</td>\n    </tr>\n  </tbody>\n</table>\n</div>"
     },
     "metadata": {},
     "execution_count": 3
    }
   ],
   "source": [
    "# Read in mortality CSV files to be loaded to database\n",
    "mortalities_csv = \"mortalities.csv\"\n",
    "mortalities = pd.read_csv(mortalities_csv)\n",
    "mortalities.head()"
   ]
  },
  {
   "cell_type": "code",
   "execution_count": 4,
   "metadata": {},
   "outputs": [
    {
     "output_type": "execute_result",
     "data": {
      "text/plain": [
       "    country  year  accessibility_percentage gender  mortality_rate\n",
       "0       AFG  2017                  67.06462   BTSX        64.94076\n",
       "1       ALB  2017                  91.03923   BTSX         9.41805\n",
       "2       DZA  2017                  93.55589   BTSX        24.31948\n",
       "3       AND  2017                 100.00000   BTSX         3.21892\n",
       "4       AGO  2017                  55.84290   BTSX        80.62230\n",
       "..      ...   ...                       ...    ...             ...\n",
       "187     VEN  2017                  95.72371   BTSX        24.20000\n",
       "188     VNM  2017                  94.71880   BTSX        20.84312\n",
       "189     YEM  2017                  63.47347   BTSX        56.96643\n",
       "190     ZMB  2017                  59.96376   BTSX        64.33790\n",
       "191     ZWE  2017                  64.05123   BTSX        58.23492\n",
       "\n",
       "[192 rows x 5 columns]"
      ],
      "text/html": "<div>\n<style scoped>\n    .dataframe tbody tr th:only-of-type {\n        vertical-align: middle;\n    }\n\n    .dataframe tbody tr th {\n        vertical-align: top;\n    }\n\n    .dataframe thead th {\n        text-align: right;\n    }\n</style>\n<table border=\"1\" class=\"dataframe\">\n  <thead>\n    <tr style=\"text-align: right;\">\n      <th></th>\n      <th>country</th>\n      <th>year</th>\n      <th>accessibility_percentage</th>\n      <th>gender</th>\n      <th>mortality_rate</th>\n    </tr>\n  </thead>\n  <tbody>\n    <tr>\n      <th>0</th>\n      <td>AFG</td>\n      <td>2017</td>\n      <td>67.06462</td>\n      <td>BTSX</td>\n      <td>64.94076</td>\n    </tr>\n    <tr>\n      <th>1</th>\n      <td>ALB</td>\n      <td>2017</td>\n      <td>91.03923</td>\n      <td>BTSX</td>\n      <td>9.41805</td>\n    </tr>\n    <tr>\n      <th>2</th>\n      <td>DZA</td>\n      <td>2017</td>\n      <td>93.55589</td>\n      <td>BTSX</td>\n      <td>24.31948</td>\n    </tr>\n    <tr>\n      <th>3</th>\n      <td>AND</td>\n      <td>2017</td>\n      <td>100.00000</td>\n      <td>BTSX</td>\n      <td>3.21892</td>\n    </tr>\n    <tr>\n      <th>4</th>\n      <td>AGO</td>\n      <td>2017</td>\n      <td>55.84290</td>\n      <td>BTSX</td>\n      <td>80.62230</td>\n    </tr>\n    <tr>\n      <th>...</th>\n      <td>...</td>\n      <td>...</td>\n      <td>...</td>\n      <td>...</td>\n      <td>...</td>\n    </tr>\n    <tr>\n      <th>187</th>\n      <td>VEN</td>\n      <td>2017</td>\n      <td>95.72371</td>\n      <td>BTSX</td>\n      <td>24.20000</td>\n    </tr>\n    <tr>\n      <th>188</th>\n      <td>VNM</td>\n      <td>2017</td>\n      <td>94.71880</td>\n      <td>BTSX</td>\n      <td>20.84312</td>\n    </tr>\n    <tr>\n      <th>189</th>\n      <td>YEM</td>\n      <td>2017</td>\n      <td>63.47347</td>\n      <td>BTSX</td>\n      <td>56.96643</td>\n    </tr>\n    <tr>\n      <th>190</th>\n      <td>ZMB</td>\n      <td>2017</td>\n      <td>59.96376</td>\n      <td>BTSX</td>\n      <td>64.33790</td>\n    </tr>\n    <tr>\n      <th>191</th>\n      <td>ZWE</td>\n      <td>2017</td>\n      <td>64.05123</td>\n      <td>BTSX</td>\n      <td>58.23492</td>\n    </tr>\n  </tbody>\n</table>\n<p>192 rows × 5 columns</p>\n</div>"
     },
     "metadata": {},
     "execution_count": 4
    }
   ],
   "source": [
    "combined_df = pd.merge(water, mortalities)\n",
    "combined_df"
   ]
  },
  {
   "cell_type": "code",
   "execution_count": 5,
   "metadata": {},
   "outputs": [
    {
     "output_type": "execute_result",
     "data": {
      "text/plain": [
       "  country  year  accessibility_percentage  mortality_rate\n",
       "0     AFG  2017                  67.06462        64.94076\n",
       "1     ALB  2017                  91.03923         9.41805\n",
       "2     DZA  2017                  93.55589        24.31948\n",
       "3     AND  2017                 100.00000         3.21892\n",
       "4     AGO  2017                  55.84290        80.62230"
      ],
      "text/html": "<div>\n<style scoped>\n    .dataframe tbody tr th:only-of-type {\n        vertical-align: middle;\n    }\n\n    .dataframe tbody tr th {\n        vertical-align: top;\n    }\n\n    .dataframe thead th {\n        text-align: right;\n    }\n</style>\n<table border=\"1\" class=\"dataframe\">\n  <thead>\n    <tr style=\"text-align: right;\">\n      <th></th>\n      <th>country</th>\n      <th>year</th>\n      <th>accessibility_percentage</th>\n      <th>mortality_rate</th>\n    </tr>\n  </thead>\n  <tbody>\n    <tr>\n      <th>0</th>\n      <td>AFG</td>\n      <td>2017</td>\n      <td>67.06462</td>\n      <td>64.94076</td>\n    </tr>\n    <tr>\n      <th>1</th>\n      <td>ALB</td>\n      <td>2017</td>\n      <td>91.03923</td>\n      <td>9.41805</td>\n    </tr>\n    <tr>\n      <th>2</th>\n      <td>DZA</td>\n      <td>2017</td>\n      <td>93.55589</td>\n      <td>24.31948</td>\n    </tr>\n    <tr>\n      <th>3</th>\n      <td>AND</td>\n      <td>2017</td>\n      <td>100.00000</td>\n      <td>3.21892</td>\n    </tr>\n    <tr>\n      <th>4</th>\n      <td>AGO</td>\n      <td>2017</td>\n      <td>55.84290</td>\n      <td>80.62230</td>\n    </tr>\n  </tbody>\n</table>\n</div>"
     },
     "metadata": {},
     "execution_count": 5
    }
   ],
   "source": [
    "# filter dataframe to specific columns\n",
    "combined_df1 = combined_df[['country', 'year', 'accessibility_percentage', 'mortality_rate']].copy()\n",
    "combined_df1.head()"
   ]
  },
  {
   "cell_type": "code",
   "execution_count": 6,
   "metadata": {},
   "outputs": [],
   "source": [
    "# connect to database\n",
    "connection_string = \"postgres:[{PASSWORD}@localhost:5432/Water_Mortalities\"\n",
    "engine = create_engine(f'postgresql://{connection_string}')"
   ]
  },
  {
   "cell_type": "code",
   "execution_count": 7,
   "metadata": {},
   "outputs": [
    {
     "output_type": "execute_result",
     "data": {
      "text/plain": [
       "['water', 'mortalities', 'combined']"
      ]
     },
     "metadata": {},
     "execution_count": 7
    }
   ],
   "source": [
    "# confirm tables\n",
    "engine.table_names()"
   ]
  },
  {
   "cell_type": "markdown",
   "metadata": {},
   "source": [
    " # Load dataframes into database"
   ]
  },
  {
   "cell_type": "code",
   "execution_count": 8,
   "metadata": {},
   "outputs": [],
   "source": [
    "# use pandas to load dataframes to database\n",
    "water.to_sql(name='water', con=engine, if_exists='append', index=False)\n",
    "mortalities.to_sql(name='mortalities', con=engine, if_exists='append', index=False)"
   ]
  },
  {
   "cell_type": "code",
   "execution_count": 9,
   "metadata": {},
   "outputs": [],
   "source": [
    "combined_df1.to_sql(name=\"combined\", con=engine, if_exists=\"append\", index=False)"
   ]
  },
  {
   "cell_type": "code",
   "execution_count": 10,
   "metadata": {},
   "outputs": [
    {
     "output_type": "execute_result",
     "data": {
      "text/plain": [
       "   id country  year  accessibility_percentage\n",
       "0   1     AFG  2017                  67.06462\n",
       "1   2     ALB  2017                  91.03923\n",
       "2   3     DZA  2017                  93.55589\n",
       "3   4     AND  2017                 100.00000\n",
       "4   5     AGO  2017                  55.84290"
      ],
      "text/html": "<div>\n<style scoped>\n    .dataframe tbody tr th:only-of-type {\n        vertical-align: middle;\n    }\n\n    .dataframe tbody tr th {\n        vertical-align: top;\n    }\n\n    .dataframe thead th {\n        text-align: right;\n    }\n</style>\n<table border=\"1\" class=\"dataframe\">\n  <thead>\n    <tr style=\"text-align: right;\">\n      <th></th>\n      <th>id</th>\n      <th>country</th>\n      <th>year</th>\n      <th>accessibility_percentage</th>\n    </tr>\n  </thead>\n  <tbody>\n    <tr>\n      <th>0</th>\n      <td>1</td>\n      <td>AFG</td>\n      <td>2017</td>\n      <td>67.06462</td>\n    </tr>\n    <tr>\n      <th>1</th>\n      <td>2</td>\n      <td>ALB</td>\n      <td>2017</td>\n      <td>91.03923</td>\n    </tr>\n    <tr>\n      <th>2</th>\n      <td>3</td>\n      <td>DZA</td>\n      <td>2017</td>\n      <td>93.55589</td>\n    </tr>\n    <tr>\n      <th>3</th>\n      <td>4</td>\n      <td>AND</td>\n      <td>2017</td>\n      <td>100.00000</td>\n    </tr>\n    <tr>\n      <th>4</th>\n      <td>5</td>\n      <td>AGO</td>\n      <td>2017</td>\n      <td>55.84290</td>\n    </tr>\n  </tbody>\n</table>\n</div>"
     },
     "metadata": {},
     "execution_count": 10
    }
   ],
   "source": [
    "# Check that dataframes have loaded successfully\n",
    "pd.read_sql_query('select * from water', con=engine).head()"
   ]
  },
  {
   "cell_type": "code",
   "execution_count": 11,
   "metadata": {},
   "outputs": [
    {
     "output_type": "execute_result",
     "data": {
      "text/plain": [
       "   id country  year gender  mortality_rate\n",
       "0   1     AFG  2017   BTSX        64.94076\n",
       "1   2     AGO  2017   BTSX        80.62230\n",
       "2   3     ALB  2017   BTSX         9.41805\n",
       "3   4     AND  2017   BTSX         3.21892\n",
       "4   5     ARE  2017   BTSX         7.69530"
      ],
      "text/html": "<div>\n<style scoped>\n    .dataframe tbody tr th:only-of-type {\n        vertical-align: middle;\n    }\n\n    .dataframe tbody tr th {\n        vertical-align: top;\n    }\n\n    .dataframe thead th {\n        text-align: right;\n    }\n</style>\n<table border=\"1\" class=\"dataframe\">\n  <thead>\n    <tr style=\"text-align: right;\">\n      <th></th>\n      <th>id</th>\n      <th>country</th>\n      <th>year</th>\n      <th>gender</th>\n      <th>mortality_rate</th>\n    </tr>\n  </thead>\n  <tbody>\n    <tr>\n      <th>0</th>\n      <td>1</td>\n      <td>AFG</td>\n      <td>2017</td>\n      <td>BTSX</td>\n      <td>64.94076</td>\n    </tr>\n    <tr>\n      <th>1</th>\n      <td>2</td>\n      <td>AGO</td>\n      <td>2017</td>\n      <td>BTSX</td>\n      <td>80.62230</td>\n    </tr>\n    <tr>\n      <th>2</th>\n      <td>3</td>\n      <td>ALB</td>\n      <td>2017</td>\n      <td>BTSX</td>\n      <td>9.41805</td>\n    </tr>\n    <tr>\n      <th>3</th>\n      <td>4</td>\n      <td>AND</td>\n      <td>2017</td>\n      <td>BTSX</td>\n      <td>3.21892</td>\n    </tr>\n    <tr>\n      <th>4</th>\n      <td>5</td>\n      <td>ARE</td>\n      <td>2017</td>\n      <td>BTSX</td>\n      <td>7.69530</td>\n    </tr>\n  </tbody>\n</table>\n</div>"
     },
     "metadata": {},
     "execution_count": 11
    }
   ],
   "source": [
    "# Check that dataframes have loaded successfully\n",
    "pd.read_sql_query('select * from mortalities', con=engine).head()"
   ]
  },
  {
   "cell_type": "code",
   "execution_count": 12,
   "metadata": {},
   "outputs": [
    {
     "output_type": "execute_result",
     "data": {
      "text/plain": [
       "   id country  year  accessibility_percentage  mortality_rate\n",
       "0   1     AFG  2017                  67.06462        64.94076\n",
       "1   2     ALB  2017                  91.03923         9.41805\n",
       "2   3     DZA  2017                  93.55589        24.31948\n",
       "3   4     AND  2017                 100.00000         3.21892\n",
       "4   5     AGO  2017                  55.84290        80.62230"
      ],
      "text/html": "<div>\n<style scoped>\n    .dataframe tbody tr th:only-of-type {\n        vertical-align: middle;\n    }\n\n    .dataframe tbody tr th {\n        vertical-align: top;\n    }\n\n    .dataframe thead th {\n        text-align: right;\n    }\n</style>\n<table border=\"1\" class=\"dataframe\">\n  <thead>\n    <tr style=\"text-align: right;\">\n      <th></th>\n      <th>id</th>\n      <th>country</th>\n      <th>year</th>\n      <th>accessibility_percentage</th>\n      <th>mortality_rate</th>\n    </tr>\n  </thead>\n  <tbody>\n    <tr>\n      <th>0</th>\n      <td>1</td>\n      <td>AFG</td>\n      <td>2017</td>\n      <td>67.06462</td>\n      <td>64.94076</td>\n    </tr>\n    <tr>\n      <th>1</th>\n      <td>2</td>\n      <td>ALB</td>\n      <td>2017</td>\n      <td>91.03923</td>\n      <td>9.41805</td>\n    </tr>\n    <tr>\n      <th>2</th>\n      <td>3</td>\n      <td>DZA</td>\n      <td>2017</td>\n      <td>93.55589</td>\n      <td>24.31948</td>\n    </tr>\n    <tr>\n      <th>3</th>\n      <td>4</td>\n      <td>AND</td>\n      <td>2017</td>\n      <td>100.00000</td>\n      <td>3.21892</td>\n    </tr>\n    <tr>\n      <th>4</th>\n      <td>5</td>\n      <td>AGO</td>\n      <td>2017</td>\n      <td>55.84290</td>\n      <td>80.62230</td>\n    </tr>\n  </tbody>\n</table>\n</div>"
     },
     "metadata": {},
     "execution_count": 12
    }
   ],
   "source": [
    "# Check that dataframes have loaded successfully\n",
    "pd.read_sql_query('select * from combined', con=engine).head()"
   ]
  },
  {
   "cell_type": "code",
   "execution_count": null,
   "metadata": {},
   "outputs": [],
   "source": []
  }
 ],
 "metadata": {
  "kernelspec": {
   "name": "python383jvsc74a57bd01967d762c769939a2291d44347683792873ab5f7dbb8a8895d3a32369559e71d",
   "display_name": "Python 3.8.3 64-bit ('base': conda)"
  },
  "language_info": {
   "codemirror_mode": {
    "name": "ipython",
    "version": 3
   },
   "file_extension": ".py",
   "mimetype": "text/x-python",
   "name": "python",
   "nbconvert_exporter": "python",
   "pygments_lexer": "ipython3",
   "version": "3.8.3"
  }
 },
 "nbformat": 4,
 "nbformat_minor": 4
}