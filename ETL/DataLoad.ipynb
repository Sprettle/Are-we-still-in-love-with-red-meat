{
 "cells": [
  {
   "cell_type": "markdown",
   "metadata": {},
   "source": [
    "# Data Load into postgreSQL database"
   ]
  },
  {
   "cell_type": "code",
   "execution_count": 1,
   "metadata": {},
   "outputs": [],
   "source": [
    "# Import Dependencies\n",
    "import pandas as pd\n",
    "from sqlalchemy import create_engine"
   ]
  },
  {
   "cell_type": "code",
   "execution_count": 2,
   "metadata": {},
   "outputs": [
    {
     "output_type": "execute_result",
     "data": {
      "text/plain": [
       "   year  beef  lamb  pork  chicken\n",
       "0  1974    63    25    10       12\n",
       "1  1975    67    22    10       13\n",
       "2  1976    69    18    10       14\n",
       "3  1977    67    18    11       15\n",
       "4  1978    57    18    10       17"
      ],
      "text/html": "<div>\n<style scoped>\n    .dataframe tbody tr th:only-of-type {\n        vertical-align: middle;\n    }\n\n    .dataframe tbody tr th {\n        vertical-align: top;\n    }\n\n    .dataframe thead th {\n        text-align: right;\n    }\n</style>\n<table border=\"1\" class=\"dataframe\">\n  <thead>\n    <tr style=\"text-align: right;\">\n      <th></th>\n      <th>year</th>\n      <th>beef</th>\n      <th>lamb</th>\n      <th>pork</th>\n      <th>chicken</th>\n    </tr>\n  </thead>\n  <tbody>\n    <tr>\n      <th>0</th>\n      <td>1974</td>\n      <td>63</td>\n      <td>25</td>\n      <td>10</td>\n      <td>12</td>\n    </tr>\n    <tr>\n      <th>1</th>\n      <td>1975</td>\n      <td>67</td>\n      <td>22</td>\n      <td>10</td>\n      <td>13</td>\n    </tr>\n    <tr>\n      <th>2</th>\n      <td>1976</td>\n      <td>69</td>\n      <td>18</td>\n      <td>10</td>\n      <td>14</td>\n    </tr>\n    <tr>\n      <th>3</th>\n      <td>1977</td>\n      <td>67</td>\n      <td>18</td>\n      <td>11</td>\n      <td>15</td>\n    </tr>\n    <tr>\n      <th>4</th>\n      <td>1978</td>\n      <td>57</td>\n      <td>18</td>\n      <td>10</td>\n      <td>17</td>\n    </tr>\n  </tbody>\n</table>\n</div>"
     },
     "metadata": {},
     "execution_count": 2
    }
   ],
   "source": [
    "# Read in meat consumption CSV file to be loaded to database\n",
    "csv = \"Resources/meat_consumption.csv\"\n",
    "meat = pd.read_csv(csv)\n",
    "meat.head()"
   ]
  },
  {
   "cell_type": "code",
   "execution_count": 3,
   "metadata": {},
   "outputs": [
    {
     "output_type": "execute_result",
     "data": {
      "text/plain": [
       "   year       beef      lamb       pork    chicken\n",
       "0  2018  21.346134  8.745080  28.846850  48.220813\n",
       "1  2019  20.554315  8.399331  29.241685  49.061942\n",
       "2  2020  19.762497  8.053583  29.636521  49.903072\n",
       "3  2021  18.970678  7.707835  30.031357  50.744202\n",
       "4  2022  18.178860  7.362087  30.426193  51.585331"
      ],
      "text/html": "<div>\n<style scoped>\n    .dataframe tbody tr th:only-of-type {\n        vertical-align: middle;\n    }\n\n    .dataframe tbody tr th {\n        vertical-align: top;\n    }\n\n    .dataframe thead th {\n        text-align: right;\n    }\n</style>\n<table border=\"1\" class=\"dataframe\">\n  <thead>\n    <tr style=\"text-align: right;\">\n      <th></th>\n      <th>year</th>\n      <th>beef</th>\n      <th>lamb</th>\n      <th>pork</th>\n      <th>chicken</th>\n    </tr>\n  </thead>\n  <tbody>\n    <tr>\n      <th>0</th>\n      <td>2018</td>\n      <td>21.346134</td>\n      <td>8.745080</td>\n      <td>28.846850</td>\n      <td>48.220813</td>\n    </tr>\n    <tr>\n      <th>1</th>\n      <td>2019</td>\n      <td>20.554315</td>\n      <td>8.399331</td>\n      <td>29.241685</td>\n      <td>49.061942</td>\n    </tr>\n    <tr>\n      <th>2</th>\n      <td>2020</td>\n      <td>19.762497</td>\n      <td>8.053583</td>\n      <td>29.636521</td>\n      <td>49.903072</td>\n    </tr>\n    <tr>\n      <th>3</th>\n      <td>2021</td>\n      <td>18.970678</td>\n      <td>7.707835</td>\n      <td>30.031357</td>\n      <td>50.744202</td>\n    </tr>\n    <tr>\n      <th>4</th>\n      <td>2022</td>\n      <td>18.178860</td>\n      <td>7.362087</td>\n      <td>30.426193</td>\n      <td>51.585331</td>\n    </tr>\n  </tbody>\n</table>\n</div>"
     },
     "metadata": {},
     "execution_count": 3
    }
   ],
   "source": [
    "# Read in meat consumption CSV file to be loaded to database\n",
    "csv = \"Resources/predicted_meat_consumption.csv\"\n",
    "predicted_meat = pd.read_csv(csv)\n",
    "predicted_meat.head()"
   ]
  },
  {
   "cell_type": "code",
   "execution_count": 4,
   "metadata": {},
   "outputs": [
    {
     "output_type": "execute_result",
     "data": {
      "text/plain": [
       "    year       beef       lamb       pork    chicken\n",
       "0   1974  63.000000  25.000000  10.000000  12.000000\n",
       "1   1975  67.000000  22.000000  10.000000  13.000000\n",
       "2   1976  69.000000  18.000000  10.000000  14.000000\n",
       "3   1977  67.000000  18.000000  11.000000  15.000000\n",
       "4   1978  57.000000  18.000000  10.000000  17.000000\n",
       "5   1979  50.000000  20.000000  15.000000  19.000000\n",
       "6   1980  49.000000  20.000000  16.000000  18.000000\n",
       "7   1981  49.000000  19.000000  15.000000  17.000000\n",
       "8   1982  46.000000  20.000000  15.000000  18.000000\n",
       "9   1983  42.000000  22.000000  16.000000  17.000000\n",
       "10  1984  42.000000  23.000000  16.000000  20.000000\n",
       "11  1985  41.000000  24.000000  17.000000  21.000000\n",
       "12  1986  39.000000  22.000000  17.000000  21.000000\n",
       "13  1987  40.000000  23.000000  18.000000  22.000000\n",
       "14  1988  41.000000  22.000000  18.000000  24.000000\n",
       "15  1989  40.000000  24.000000  18.000000  25.000000\n",
       "16  1990  39.000000  23.000000  18.000000  22.000000\n",
       "17  1991  37.000000  21.000000  19.000000  24.000000\n",
       "18  1992  35.000000  20.000000  19.000000  24.000000\n",
       "19  1993  36.000000  19.000000  20.000000  26.000000\n",
       "20  1994  36.000000  18.000000  20.000000  25.000000\n",
       "21  1995  34.000000  17.000000  19.000000  26.000000\n",
       "22  1996  39.000000  16.000000  19.000000  26.000000\n",
       "23  1997  37.000000  17.000000  19.000000  28.000000\n",
       "24  1998  36.000000  17.000000  20.000000  29.000000\n",
       "25  1999  37.000000  18.000000  20.000000  31.000000\n",
       "26  2000  34.000000  17.000000  18.000000  31.000000\n",
       "27  2001  33.000000  15.000000  20.000000  33.000000\n",
       "28  2002  34.000000  14.000000  21.000000  34.000000\n",
       "29  2003  35.000000  13.000000  23.000000  34.000000\n",
       "30  2004  33.000000  13.000000  24.000000  36.000000\n",
       "31  2005  33.000000  13.000000  23.000000  37.000000\n",
       "32  2006  34.000000  14.000000  26.000000  38.000000\n",
       "33  2007  32.000000  13.000000  25.000000  36.000000\n",
       "34  2008  29.000000  11.000000  24.000000  37.000000\n",
       "35  2009  33.000000  11.000000  26.000000  37.000000\n",
       "36  2010  31.000000   9.000000  25.000000  44.000000\n",
       "37  2011  29.000000   9.000000  26.000000  44.000000\n",
       "38  2012  31.000000   9.000000  26.000000  44.000000\n",
       "39  2013  30.000000   9.000000  25.000000  45.000000\n",
       "40  2014  27.000000   9.000000  27.000000  46.000000\n",
       "41  2015  25.000000   9.000000  28.000000  49.000000\n",
       "42  2016  25.000000   8.000000  28.000000  49.000000\n",
       "43  2017  24.000000   8.000000  27.000000  47.000000\n",
       "0   2018  21.346134   8.745080  28.846850  48.220813\n",
       "1   2019  20.554315   8.399331  29.241685  49.061942\n",
       "2   2020  19.762497   8.053583  29.636521  49.903072\n",
       "3   2021  18.970678   7.707835  30.031357  50.744202\n",
       "4   2022  18.178860   7.362087  30.426193  51.585331\n",
       "5   2023  17.387041   7.016338  30.821028  52.426461\n",
       "6   2024  16.595223   6.670590  31.215864  53.267591\n",
       "7   2025  15.803404   6.324842  31.610700  54.108720\n",
       "8   2026  15.011586   5.979094  32.005536  54.949850\n",
       "9   2027  14.219767   5.633345  32.400371  55.790980"
      ],
      "text/html": "<div>\n<style scoped>\n    .dataframe tbody tr th:only-of-type {\n        vertical-align: middle;\n    }\n\n    .dataframe tbody tr th {\n        vertical-align: top;\n    }\n\n    .dataframe thead th {\n        text-align: right;\n    }\n</style>\n<table border=\"1\" class=\"dataframe\">\n  <thead>\n    <tr style=\"text-align: right;\">\n      <th></th>\n      <th>year</th>\n      <th>beef</th>\n      <th>lamb</th>\n      <th>pork</th>\n      <th>chicken</th>\n    </tr>\n  </thead>\n  <tbody>\n    <tr>\n      <th>0</th>\n      <td>1974</td>\n      <td>63.000000</td>\n      <td>25.000000</td>\n      <td>10.000000</td>\n      <td>12.000000</td>\n    </tr>\n    <tr>\n      <th>1</th>\n      <td>1975</td>\n      <td>67.000000</td>\n      <td>22.000000</td>\n      <td>10.000000</td>\n      <td>13.000000</td>\n    </tr>\n    <tr>\n      <th>2</th>\n      <td>1976</td>\n      <td>69.000000</td>\n      <td>18.000000</td>\n      <td>10.000000</td>\n      <td>14.000000</td>\n    </tr>\n    <tr>\n      <th>3</th>\n      <td>1977</td>\n      <td>67.000000</td>\n      <td>18.000000</td>\n      <td>11.000000</td>\n      <td>15.000000</td>\n    </tr>\n    <tr>\n      <th>4</th>\n      <td>1978</td>\n      <td>57.000000</td>\n      <td>18.000000</td>\n      <td>10.000000</td>\n      <td>17.000000</td>\n    </tr>\n    <tr>\n      <th>5</th>\n      <td>1979</td>\n      <td>50.000000</td>\n      <td>20.000000</td>\n      <td>15.000000</td>\n      <td>19.000000</td>\n    </tr>\n    <tr>\n      <th>6</th>\n      <td>1980</td>\n      <td>49.000000</td>\n      <td>20.000000</td>\n      <td>16.000000</td>\n      <td>18.000000</td>\n    </tr>\n    <tr>\n      <th>7</th>\n      <td>1981</td>\n      <td>49.000000</td>\n      <td>19.000000</td>\n      <td>15.000000</td>\n      <td>17.000000</td>\n    </tr>\n    <tr>\n      <th>8</th>\n      <td>1982</td>\n      <td>46.000000</td>\n      <td>20.000000</td>\n      <td>15.000000</td>\n      <td>18.000000</td>\n    </tr>\n    <tr>\n      <th>9</th>\n      <td>1983</td>\n      <td>42.000000</td>\n      <td>22.000000</td>\n      <td>16.000000</td>\n      <td>17.000000</td>\n    </tr>\n    <tr>\n      <th>10</th>\n      <td>1984</td>\n      <td>42.000000</td>\n      <td>23.000000</td>\n      <td>16.000000</td>\n      <td>20.000000</td>\n    </tr>\n    <tr>\n      <th>11</th>\n      <td>1985</td>\n      <td>41.000000</td>\n      <td>24.000000</td>\n      <td>17.000000</td>\n      <td>21.000000</td>\n    </tr>\n    <tr>\n      <th>12</th>\n      <td>1986</td>\n      <td>39.000000</td>\n      <td>22.000000</td>\n      <td>17.000000</td>\n      <td>21.000000</td>\n    </tr>\n    <tr>\n      <th>13</th>\n      <td>1987</td>\n      <td>40.000000</td>\n      <td>23.000000</td>\n      <td>18.000000</td>\n      <td>22.000000</td>\n    </tr>\n    <tr>\n      <th>14</th>\n      <td>1988</td>\n      <td>41.000000</td>\n      <td>22.000000</td>\n      <td>18.000000</td>\n      <td>24.000000</td>\n    </tr>\n    <tr>\n      <th>15</th>\n      <td>1989</td>\n      <td>40.000000</td>\n      <td>24.000000</td>\n      <td>18.000000</td>\n      <td>25.000000</td>\n    </tr>\n    <tr>\n      <th>16</th>\n      <td>1990</td>\n      <td>39.000000</td>\n      <td>23.000000</td>\n      <td>18.000000</td>\n      <td>22.000000</td>\n    </tr>\n    <tr>\n      <th>17</th>\n      <td>1991</td>\n      <td>37.000000</td>\n      <td>21.000000</td>\n      <td>19.000000</td>\n      <td>24.000000</td>\n    </tr>\n    <tr>\n      <th>18</th>\n      <td>1992</td>\n      <td>35.000000</td>\n      <td>20.000000</td>\n      <td>19.000000</td>\n      <td>24.000000</td>\n    </tr>\n    <tr>\n      <th>19</th>\n      <td>1993</td>\n      <td>36.000000</td>\n      <td>19.000000</td>\n      <td>20.000000</td>\n      <td>26.000000</td>\n    </tr>\n    <tr>\n      <th>20</th>\n      <td>1994</td>\n      <td>36.000000</td>\n      <td>18.000000</td>\n      <td>20.000000</td>\n      <td>25.000000</td>\n    </tr>\n    <tr>\n      <th>21</th>\n      <td>1995</td>\n      <td>34.000000</td>\n      <td>17.000000</td>\n      <td>19.000000</td>\n      <td>26.000000</td>\n    </tr>\n    <tr>\n      <th>22</th>\n      <td>1996</td>\n      <td>39.000000</td>\n      <td>16.000000</td>\n      <td>19.000000</td>\n      <td>26.000000</td>\n    </tr>\n    <tr>\n      <th>23</th>\n      <td>1997</td>\n      <td>37.000000</td>\n      <td>17.000000</td>\n      <td>19.000000</td>\n      <td>28.000000</td>\n    </tr>\n    <tr>\n      <th>24</th>\n      <td>1998</td>\n      <td>36.000000</td>\n      <td>17.000000</td>\n      <td>20.000000</td>\n      <td>29.000000</td>\n    </tr>\n    <tr>\n      <th>25</th>\n      <td>1999</td>\n      <td>37.000000</td>\n      <td>18.000000</td>\n      <td>20.000000</td>\n      <td>31.000000</td>\n    </tr>\n    <tr>\n      <th>26</th>\n      <td>2000</td>\n      <td>34.000000</td>\n      <td>17.000000</td>\n      <td>18.000000</td>\n      <td>31.000000</td>\n    </tr>\n    <tr>\n      <th>27</th>\n      <td>2001</td>\n      <td>33.000000</td>\n      <td>15.000000</td>\n      <td>20.000000</td>\n      <td>33.000000</td>\n    </tr>\n    <tr>\n      <th>28</th>\n      <td>2002</td>\n      <td>34.000000</td>\n      <td>14.000000</td>\n      <td>21.000000</td>\n      <td>34.000000</td>\n    </tr>\n    <tr>\n      <th>29</th>\n      <td>2003</td>\n      <td>35.000000</td>\n      <td>13.000000</td>\n      <td>23.000000</td>\n      <td>34.000000</td>\n    </tr>\n    <tr>\n      <th>30</th>\n      <td>2004</td>\n      <td>33.000000</td>\n      <td>13.000000</td>\n      <td>24.000000</td>\n      <td>36.000000</td>\n    </tr>\n    <tr>\n      <th>31</th>\n      <td>2005</td>\n      <td>33.000000</td>\n      <td>13.000000</td>\n      <td>23.000000</td>\n      <td>37.000000</td>\n    </tr>\n    <tr>\n      <th>32</th>\n      <td>2006</td>\n      <td>34.000000</td>\n      <td>14.000000</td>\n      <td>26.000000</td>\n      <td>38.000000</td>\n    </tr>\n    <tr>\n      <th>33</th>\n      <td>2007</td>\n      <td>32.000000</td>\n      <td>13.000000</td>\n      <td>25.000000</td>\n      <td>36.000000</td>\n    </tr>\n    <tr>\n      <th>34</th>\n      <td>2008</td>\n      <td>29.000000</td>\n      <td>11.000000</td>\n      <td>24.000000</td>\n      <td>37.000000</td>\n    </tr>\n    <tr>\n      <th>35</th>\n      <td>2009</td>\n      <td>33.000000</td>\n      <td>11.000000</td>\n      <td>26.000000</td>\n      <td>37.000000</td>\n    </tr>\n    <tr>\n      <th>36</th>\n      <td>2010</td>\n      <td>31.000000</td>\n      <td>9.000000</td>\n      <td>25.000000</td>\n      <td>44.000000</td>\n    </tr>\n    <tr>\n      <th>37</th>\n      <td>2011</td>\n      <td>29.000000</td>\n      <td>9.000000</td>\n      <td>26.000000</td>\n      <td>44.000000</td>\n    </tr>\n    <tr>\n      <th>38</th>\n      <td>2012</td>\n      <td>31.000000</td>\n      <td>9.000000</td>\n      <td>26.000000</td>\n      <td>44.000000</td>\n    </tr>\n    <tr>\n      <th>39</th>\n      <td>2013</td>\n      <td>30.000000</td>\n      <td>9.000000</td>\n      <td>25.000000</td>\n      <td>45.000000</td>\n    </tr>\n    <tr>\n      <th>40</th>\n      <td>2014</td>\n      <td>27.000000</td>\n      <td>9.000000</td>\n      <td>27.000000</td>\n      <td>46.000000</td>\n    </tr>\n    <tr>\n      <th>41</th>\n      <td>2015</td>\n      <td>25.000000</td>\n      <td>9.000000</td>\n      <td>28.000000</td>\n      <td>49.000000</td>\n    </tr>\n    <tr>\n      <th>42</th>\n      <td>2016</td>\n      <td>25.000000</td>\n      <td>8.000000</td>\n      <td>28.000000</td>\n      <td>49.000000</td>\n    </tr>\n    <tr>\n      <th>43</th>\n      <td>2017</td>\n      <td>24.000000</td>\n      <td>8.000000</td>\n      <td>27.000000</td>\n      <td>47.000000</td>\n    </tr>\n    <tr>\n      <th>0</th>\n      <td>2018</td>\n      <td>21.346134</td>\n      <td>8.745080</td>\n      <td>28.846850</td>\n      <td>48.220813</td>\n    </tr>\n    <tr>\n      <th>1</th>\n      <td>2019</td>\n      <td>20.554315</td>\n      <td>8.399331</td>\n      <td>29.241685</td>\n      <td>49.061942</td>\n    </tr>\n    <tr>\n      <th>2</th>\n      <td>2020</td>\n      <td>19.762497</td>\n      <td>8.053583</td>\n      <td>29.636521</td>\n      <td>49.903072</td>\n    </tr>\n    <tr>\n      <th>3</th>\n      <td>2021</td>\n      <td>18.970678</td>\n      <td>7.707835</td>\n      <td>30.031357</td>\n      <td>50.744202</td>\n    </tr>\n    <tr>\n      <th>4</th>\n      <td>2022</td>\n      <td>18.178860</td>\n      <td>7.362087</td>\n      <td>30.426193</td>\n      <td>51.585331</td>\n    </tr>\n    <tr>\n      <th>5</th>\n      <td>2023</td>\n      <td>17.387041</td>\n      <td>7.016338</td>\n      <td>30.821028</td>\n      <td>52.426461</td>\n    </tr>\n    <tr>\n      <th>6</th>\n      <td>2024</td>\n      <td>16.595223</td>\n      <td>6.670590</td>\n      <td>31.215864</td>\n      <td>53.267591</td>\n    </tr>\n    <tr>\n      <th>7</th>\n      <td>2025</td>\n      <td>15.803404</td>\n      <td>6.324842</td>\n      <td>31.610700</td>\n      <td>54.108720</td>\n    </tr>\n    <tr>\n      <th>8</th>\n      <td>2026</td>\n      <td>15.011586</td>\n      <td>5.979094</td>\n      <td>32.005536</td>\n      <td>54.949850</td>\n    </tr>\n    <tr>\n      <th>9</th>\n      <td>2027</td>\n      <td>14.219767</td>\n      <td>5.633345</td>\n      <td>32.400371</td>\n      <td>55.790980</td>\n    </tr>\n  </tbody>\n</table>\n</div>"
     },
     "metadata": {},
     "execution_count": 4
    }
   ],
   "source": [
    "frames = [meat, predicted_meat]\n",
    "\n",
    "meat_combined = pd.concat(frames)\n",
    "meat_combined"
   ]
  },
  {
   "cell_type": "code",
   "execution_count": 5,
   "metadata": {},
   "outputs": [],
   "source": [
    "# connect to database\n",
    "connection_string = \"postgres:6186@localhost:5432/redmeat_db\"\n",
    "engine = create_engine(f'postgresql://{connection_string}')"
   ]
  },
  {
   "cell_type": "code",
   "execution_count": 6,
   "metadata": {},
   "outputs": [
    {
     "output_type": "execute_result",
     "data": {
      "text/plain": [
       "['meat']"
      ]
     },
     "metadata": {},
     "execution_count": 6
    }
   ],
   "source": [
    "# confirm tables\n",
    "engine.table_names()"
   ]
  },
  {
   "cell_type": "markdown",
   "metadata": {},
   "source": [
    " # Load dataframes into database"
   ]
  },
  {
   "cell_type": "code",
   "execution_count": 7,
   "metadata": {},
   "outputs": [],
   "source": [
    "# use pandas to load dataframes to database\n",
    "meat_combined.to_sql(name='meat', con=engine, if_exists='append', index=False)\n"
   ]
  },
  {
   "cell_type": "code",
   "execution_count": 8,
   "metadata": {},
   "outputs": [
    {
     "output_type": "execute_result",
     "data": {
      "text/plain": [
       "   id  year  beef  lamb  pork  chicken\n",
       "0   1  1974    63    25    10       12\n",
       "1   2  1975    67    22    10       13\n",
       "2   3  1976    69    18    10       14\n",
       "3   4  1977    67    18    11       15\n",
       "4   5  1978    57    18    10       17"
      ],
      "text/html": "<div>\n<style scoped>\n    .dataframe tbody tr th:only-of-type {\n        vertical-align: middle;\n    }\n\n    .dataframe tbody tr th {\n        vertical-align: top;\n    }\n\n    .dataframe thead th {\n        text-align: right;\n    }\n</style>\n<table border=\"1\" class=\"dataframe\">\n  <thead>\n    <tr style=\"text-align: right;\">\n      <th></th>\n      <th>id</th>\n      <th>year</th>\n      <th>beef</th>\n      <th>lamb</th>\n      <th>pork</th>\n      <th>chicken</th>\n    </tr>\n  </thead>\n  <tbody>\n    <tr>\n      <th>0</th>\n      <td>1</td>\n      <td>1974</td>\n      <td>63</td>\n      <td>25</td>\n      <td>10</td>\n      <td>12</td>\n    </tr>\n    <tr>\n      <th>1</th>\n      <td>2</td>\n      <td>1975</td>\n      <td>67</td>\n      <td>22</td>\n      <td>10</td>\n      <td>13</td>\n    </tr>\n    <tr>\n      <th>2</th>\n      <td>3</td>\n      <td>1976</td>\n      <td>69</td>\n      <td>18</td>\n      <td>10</td>\n      <td>14</td>\n    </tr>\n    <tr>\n      <th>3</th>\n      <td>4</td>\n      <td>1977</td>\n      <td>67</td>\n      <td>18</td>\n      <td>11</td>\n      <td>15</td>\n    </tr>\n    <tr>\n      <th>4</th>\n      <td>5</td>\n      <td>1978</td>\n      <td>57</td>\n      <td>18</td>\n      <td>10</td>\n      <td>17</td>\n    </tr>\n  </tbody>\n</table>\n</div>"
     },
     "metadata": {},
     "execution_count": 8
    }
   ],
   "source": [
    "# Check that dataframes have loaded successfully\n",
    "pd.read_sql_query('select * from meat', con=engine).head()"
   ]
  },
  {
   "cell_type": "code",
   "execution_count": null,
   "metadata": {},
   "outputs": [],
   "source": []
  }
 ],
 "metadata": {
  "kernelspec": {
   "name": "python383jvsc74a57bd01967d762c769939a2291d44347683792873ab5f7dbb8a8895d3a32369559e71d",
   "display_name": "Python 3.8.3 64-bit ('base': conda)"
  },
  "language_info": {
   "codemirror_mode": {
    "name": "ipython",
    "version": 3
   },
   "file_extension": ".py",
   "mimetype": "text/x-python",
   "name": "python",
   "nbconvert_exporter": "python",
   "pygments_lexer": "ipython3",
   "version": "3.8.3"
  }
 },
 "nbformat": 4,
 "nbformat_minor": 4
}